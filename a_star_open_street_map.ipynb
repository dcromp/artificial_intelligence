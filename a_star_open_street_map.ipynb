{
 "cells": [
  {
   "cell_type": "markdown",
   "metadata": {},
   "source": [
    "## Planning Graph"
   ]
  },
  {
   "cell_type": "code",
   "execution_count": 1,
   "metadata": {
    "collapsed": false
   },
   "outputs": [
    {
     "name": "stdout",
     "output_type": "stream",
     "text": [
      "Connecting to database\n",
      "->host='localhost' dbname='osm' user='dcromp'\n",
      "Connected!\n",
      "\n"
     ]
    }
   ],
   "source": [
    "import psycopg2\n",
    "from geojson import LineString, GeometryCollection, Point\n",
    "from math import radians, sin, cos, sqrt, asin\n",
    "import heapq\n",
    "import numpy as np\n",
    "from osmread import parse_file, Way, Node\n",
    "import os.path\n",
    "import pickle\n",
    "\n",
    "class GraphPlan(object):\n",
    "    \"\"\" Process data for a country to produce data structures needed for\n",
    "        a graph search\n",
    "    \"\"\"\n",
    "    # TODO: Class excepts any bz2 file for processing \n",
    "    def __init__(self):\n",
    "        \"\"\"\n",
    "        Connect to OSM data base and prepare basic data structures\n",
    "        \"\"\"\n",
    "        #TODO: Allow user to specify database, user and national region\n",
    "        conn_string = \"host='localhost' dbname='osm' user='dcromp'\"\n",
    "        print (\"Connecting to database\\n->%s\" % (conn_string))\n",
    "        # get a connection, if a connect cannot be made an exception will be raised here\n",
    "        conn = psycopg2.connect(conn_string)\n",
    "        # conn.cursor will return a cursor object\n",
    "        self.cursor = conn.cursor()\n",
    "        print (\"Connected!\\n\")\n",
    "        \n",
    "        # Load a file of previously calculated node distances if it exists\n",
    "        if os.path.isfile(\"saved_distances.p\"):\n",
    "            self.saved_distances = pickle.load(open(\"saved_distances.p\",\"rb\"))\n",
    "        else:\n",
    "            self.saved_distances = {}\n",
    "            \n",
    "        \n",
    "        # User guide on using osmosis tags\n",
    "        # http://skipperkongen.dk/2012/08/02/examples-of-querying-a-osm-postgresql-table-with-the-hstore-tags-column/\n",
    "        \n",
    "    def node_neighbours(self, node_id):\n",
    "        \"\"\"\n",
    "        For a given node_id its neighbouring nodes ids are returned \n",
    "        Args:\n",
    "            Node_id string\n",
    "        Returns:\n",
    "            [node_id] List of neighbouring node id's  \n",
    "        \"\"\"\n",
    "        #TODO: David Crompton, Combine the select statements into a signle database query \n",
    "        #Query to get way which the node occurs in\n",
    "        query_string = \"SELECT * FROM way_nodes WHERE node_id = {}\".format(node_id)\n",
    "        self.cursor.execute(query_string)\n",
    "        records = self.cursor.fetchall()\n",
    "        #Extract way id's from the records\n",
    "        ways = [record[0] for record in records]\n",
    "        neighbours_list = set()\n",
    "        for way in ways:\n",
    "            #Make sure we return a road using highway key and not a polygon of a building\n",
    "            query_string = \"SELECT nodes FROM ways WHERE id = {} AND exist(tags, 'highway')\".format(way)\n",
    "            self.cursor.execute(query_string)\n",
    "            records = self.cursor.fetchall()\n",
    "            try: #Possiable that way is not a road so nodes is empty\n",
    "                nodes = records[0][0]\n",
    "            except:\n",
    "                continue #Skip way if way is not a road\n",
    "            node_index = nodes.index(node_id)\n",
    "            #Extract the nodes neighbour and save to dict\n",
    "            forward_node = node_index + 1\n",
    "            backward_node = node_index - 1\n",
    "            try:\n",
    "                forward = nodes[forward_node]\n",
    "                neighbours_list.add(str(forward))\n",
    "            except:\n",
    "                pass\n",
    "            if backward_node >= 0:\n",
    "                try:\n",
    "                    backward = nodes[backward_node]\n",
    "                    neighbours_list.add(str(backward))\n",
    "                except:\n",
    "                    pass \n",
    "        return list(neighbours_list)\n",
    "    \n",
    "    def distance_measure(self, node_1, node_2):\n",
    "        \"\"\"\n",
    "        Calculates the distance between two nodes\n",
    "        Args:\n",
    "            node_1: Node id of the first node\n",
    "            node_2: Node id of the second node\n",
    "        Returns:\n",
    "            float: distance in meters\n",
    "        \"\"\"\n",
    "        if node_1 == node_2: # Nodes are the same\n",
    "            return 0\n",
    "        query_string = \"\"\"\n",
    "        SELECT ST_AsText(ST_Transform(geom,4326))\n",
    "        FROM nodes\n",
    "        WHERE id IN ({}, {})\n",
    "        \"\"\".format(node_1, node_2)\n",
    "        self.cursor.execute(query_string)\n",
    "        results = self.cursor.fetchall()\n",
    "        geom_1 = results[0][0]\n",
    "        geom_2 = results[1][0]\n",
    "        query_string = \"\"\"\n",
    "        SELECT ST_Distance_Sphere(ST_GeomFromText('{}',4326), ST_GeomFromText('{}',4326))\n",
    "        \"\"\".format(geom_1, geom_2)\n",
    "        self.cursor.execute(query_string)\n",
    "        results = self.cursor.fetchall()\n",
    "        return results[0][0]\n",
    "    \n",
    "    def nearest_road(self, lon, lat):\n",
    "        \"\"\"\n",
    "        User can insert any lon lat and the nearest node_id that is on a road is returned\n",
    "        Args:\n",
    "            lon - longitude of location\n",
    "            lat - latitide of location\n",
    "        Returns:\n",
    "            node_id -  The nearest node to lon/lat input\n",
    "        \"\"\"\n",
    "        #TODO David Crompton: searches all the nodes in the database, this is slow, need to search only within a small area\n",
    "        query_string = \"\"\"\n",
    "        WITH  highway_ways AS (\n",
    "            SELECT id \n",
    "            FROM ways \n",
    "            WHERE exist(tags, 'highway')\n",
    "            ), highway_nodes AS (\n",
    "            SELECT node_id\n",
    "            FROM way_nodes\n",
    "            WHERE way_id IN (SELECT * FROM highway_ways)\n",
    "            )\n",
    "        SELECT id \n",
    "        FROM nodes \n",
    "        WHERE ST_Distance(ST_GeomFromText('POINT({} {})',4326), geom) = \n",
    "            (SELECT MIN(ST_Distance(ST_GeomFromText('POINT({} {})',4326), geom)) \n",
    "            FROM nodes\n",
    "            WHERE id IN (SELECT * FROM highway_nodes))\n",
    "        AND id IN (SELECT * FROM highway_nodes);\n",
    "        \"\"\".format(lon, lat, lon, lat)\n",
    "        \n",
    "        print(\"Warning very slow....\")\n",
    "        self.cursor.execute(query_string)\n",
    "        records = self.cursor.fetchall()\n",
    "        print(\"Found nearest node id :)\")\n",
    "        return records\n",
    "    \n",
    "    def node_path_geojson(self, node_list):\n",
    "        \"\"\"\n",
    "        Takes a list of node id's and converts them into a goejson linestring that can be displayed on maps\n",
    "        Args:\n",
    "            [node_id,...] : list of node id's\n",
    "        Returns:\n",
    "            LineString([lat, lng,...]) : A linestring of geographic coordinates in geojson format\n",
    "        \"\"\"\n",
    "        roads = []\n",
    "        for node_id in node_list:\n",
    "            node_id = node_id.split('_BUS_')[0]\n",
    "            query_string = \"SELECT ST_AsText(ST_Transform(geom,4326)) FROM nodes WHERE id = {}\".format(node_id)\n",
    "            self.cursor.execute(query_string)\n",
    "            records = self.cursor.fetchall()\n",
    "            lng, lat = records[0][0].replace('POINT(', ' ').replace(')', '').split(' ')[1:3]\n",
    "            roads.append((float(lng), float(lat)))\n",
    "        return LineString(roads)\n",
    "    \n",
    "    def save_distances(self):\n",
    "        pickle.dump(self.saved_distances, open(\"saved_distances.p\", \"wb\" ))\n",
    "    \n",
    "class PriorityQueue:\n",
    "    def __init__(self):\n",
    "        self.elements = []\n",
    "    \n",
    "    def empty(self):\n",
    "        return len(self.elements) == 0\n",
    "    \n",
    "    def put(self, item, priority):\n",
    "        heapq.heappush(self.elements, (priority, item))\n",
    "    \n",
    "    def get(self):\n",
    "        return heapq.heappop(self.elements)[1]\n",
    "        \n",
    "graph = GraphPlan()"
   ]
  },
  {
   "cell_type": "markdown",
   "metadata": {},
   "source": [
    "## Bus Graph"
   ]
  },
  {
   "cell_type": "code",
   "execution_count": 2,
   "metadata": {
    "collapsed": false
   },
   "outputs": [
    {
     "name": "stdout",
     "output_type": "stream",
     "text": [
      "Connecting to database\n",
      "->host='localhost' dbname='osm' user='dcromp'\n",
      "Connected!\n",
      "\n"
     ]
    }
   ],
   "source": [
    "class BusPlan(GraphPlan):\n",
    "    \"\"\" \n",
    "    Extract a BusPlan from the core GraphPlan\n",
    "    \"\"\"\n",
    "    def __init__(self):\n",
    "        GraphPlan.__init__(self)\n",
    "        \n",
    "    def bus_nodes(self, node_id):\n",
    "        \"\"\"\n",
    "        Takes a node_id and returns the bus routes if any the node_id belongs to.\n",
    "        Args:\n",
    "            Node_id\n",
    "        Returns:\n",
    "            [bus_route_id,..]: List of new node_id's with the bus route appended\n",
    "            None if node is not part of a bus route\n",
    "        \"\"\"\n",
    "        bus_routes = []\n",
    "        # Select all the bus routes the node appears in\n",
    "        query_string = \"\"\"\n",
    "        SELECT DISTINCT relations.tags->'name', relations.tags->'operator', relations.tags->'ref'\n",
    "        FROM way_nodes, relation_members, relations \n",
    "        WHERE {} = way_nodes.node_id\n",
    "        AND way_nodes.way_id = relation_members.member_id\n",
    "        AND relation_members.relation_id = relations.id\n",
    "        AND tags @> '\"route\"=>\"bus\"'::hstore\"\"\".format(node_id)\n",
    "        self.cursor.execute(query_string)\n",
    "        results = self.cursor.fetchall()\n",
    "        if len(results) > 0: #Node is part of a bus route \n",
    "            for bus_route in results:\n",
    "                bus_routes.append(str(node_id) + '_BUS_{}_{}'.format(bus_route[1], bus_route[2]))\n",
    "        return bus_routes\n",
    "    \n",
    "    def bus_stop(self, node_id):\n",
    "        query_string = \"\"\"\n",
    "        SELECT * \n",
    "        FROM nodes \n",
    "        WHERE id = {} \n",
    "        AND tags @> '\"public_transport\"=>\"stop_position\"'::hstore;\"\"\".format(node_id)\n",
    "        self.cursor.execute(query_string)\n",
    "        results = self.cursor.fetchall()\n",
    "        if len(results) > 0: # Node is a bus stop\n",
    "            return True\n",
    "        else:\n",
    "            return False # Node is not a bus stop\n",
    "    \n",
    "    \n",
    "    def bus_neighbours(self, node_id):\n",
    "        \"\"\"\n",
    "        Extends the node_neighbours function to also return the children of a bus search graph. In short it seperates\n",
    "        out bus routes from the rest of the graph\n",
    "        Args:\n",
    "            node_id: A float representing the node\n",
    "        Returns:\n",
    "            [node_id]: A list of neighbouring node_id's and bus routes in the format node_id_BUS_operator_ref\n",
    "        \"\"\"\n",
    "        neighbours = []\n",
    "        bus = False\n",
    "        #Is node_id a normal node or a bus node\n",
    "        try: #Node is a bus\n",
    "            bus_id = node_id.split('_BUS_')[1]\n",
    "            bus = True\n",
    "        except: # Regular node\n",
    "            pass\n",
    "        if bus == True:\n",
    "            raw_node_id = node_id.split('_BUS_')[0]\n",
    "            stop_test = self.bus_stop(raw_node_id) # Test if node is a bus stop\n",
    "            if stop_test == True:\n",
    "                neighbours.append(raw_node_id)\n",
    "            children = self.node_neighbours(int(raw_node_id))\n",
    "            for child in children:\n",
    "                bus_neighbours = self.bus_nodes(child)\n",
    "                # Only bus nodes on the same route are valid neighbours\n",
    "                bus_neighbours = [node for node in bus_neighbours if node.split('_BUS_')[1] == bus_id]\n",
    "                neighbours.extend(bus_neighbours)\n",
    "            return neighbours \n",
    "        else:\n",
    "            raw_node_id = node_id.split('_BUS_')[0]\n",
    "            children = self.node_neighbours(int(raw_node_id))\n",
    "            neighbours.extend(children)\n",
    "            \n",
    "            stop_test = self.bus_stop(raw_node_id) # Test if node is a bus stop\n",
    "            if stop_test == False:\n",
    "                return neighbours\n",
    "            else:\n",
    "                neighbours.extend(self.bus_nodes(raw_node_id))\n",
    "                return neighbours\n",
    "    \n",
    "    def bus_distance(self, node_1, node_2):\n",
    "        \"\"\"\n",
    "        Allows the use of the distance_measure function with bus route node_id's\n",
    "        Args:\n",
    "            node_1: A node_id or a node_id with an appended bus route\n",
    "            node_2: A node_id or a node_id with an appended bus route\n",
    "        Returns:\n",
    "            meters: distance between the two nodes\n",
    "        \"\"\"\n",
    "        raw_node_1 = node_1.split('_BUS_')[0]\n",
    "        raw_node_2 = node_2.split('_BUS_')[0]\n",
    "        try:\n",
    "            distance = self.saved_distances[(raw_node_1, raw_node_2)]\n",
    "        except:\n",
    "            distance = self.distance_measure(raw_node_1, raw_node_2)\n",
    "            self.saved_distances[(raw_node_1, raw_node_2)] = distance\n",
    "        return distance\n",
    "        \n",
    "        \n",
    "graph = BusPlan()"
   ]
  },
  {
   "cell_type": "markdown",
   "metadata": {},
   "source": [
    "### Special search algorithm for testing bus route planner"
   ]
  },
  {
   "cell_type": "code",
   "execution_count": 18,
   "metadata": {
    "collapsed": false
   },
   "outputs": [
    {
     "name": "stdout",
     "output_type": "stream",
     "text": [
      "Connecting to database\n",
      "->host='localhost' dbname='osm' user='dcromp'\n",
      "Connected!\n",
      "\n",
      "Start Search...\n",
      "Solution Found\n",
      "--- 49.323291063308716 seconds ---\n"
     ]
    }
   ],
   "source": [
    "from collections import deque\n",
    "import time\n",
    "\n",
    "graph = BusPlan() # Make the bus version of the planning graph\n",
    "\n",
    "\n",
    "def step_cost(parent, child):\n",
    "    \"\"\"\n",
    "    Step cost expressed as time\n",
    "    \"\"\"\n",
    "    total_cost = 0\n",
    "    bus_speed = 60\n",
    "    walking_speed = 5\n",
    "    waiting_time = 15 #Approximate time waiting for a bus\n",
    "    parent_bus = False\n",
    "    child_bus = False\n",
    "    \n",
    "    distance = graph.bus_distance(parent, child)\n",
    "    \n",
    "    #Determine if parent and child are bus nodes\n",
    "    try:\n",
    "        parent_bus = parent.split('_BUS_')[1]\n",
    "        parent_bus = True\n",
    "    except:\n",
    "        pass\n",
    "    try:\n",
    "        child_bus = child.split('_BUS_')[1]\n",
    "        child_bus = True\n",
    "    except:\n",
    "        pass\n",
    "    \n",
    "    # Bus travel step cost\n",
    "    if parent_bus == True and child_bus == True:\n",
    "        if parent.split('_BUS_')[1] == child.split('_BUS_')[1]:\n",
    "            return (distance / bus_speed)\n",
    "    \n",
    "    #Embarking bus cost\n",
    "    if parent_bus == False and child_bus == True:\n",
    "        return waiting_time\n",
    "    \n",
    "    # Walking cost\n",
    "    return (distance / walking_speed)\n",
    "\n",
    "def heuristic_cost(goal, child):\n",
    "    return graph.bus_distance(goal, child) / 60\n",
    "\n",
    "def bus_cost_search(graph, start, goal):\n",
    "    frontier = PriorityQueue()\n",
    "    frontier.put(start, 0)\n",
    "    came_from = {}\n",
    "    cost_so_far = {}\n",
    "    \n",
    "    came_from[start] = None\n",
    "    cost_so_far[start] = 0\n",
    "    \n",
    "    print(\"Start Search...\")\n",
    "    while not frontier.empty():\n",
    "        current = frontier.get()\n",
    "        #Check if the goal has been expanded\n",
    "        if goal == current:\n",
    "            print(\"Solution Found\")\n",
    "            break\n",
    "        for child in graph.bus_neighbours(current):\n",
    "            child_cost = cost_so_far[current] + step_cost(current, child)\n",
    "            if child not in came_from or child_cost < cost_so_far[child]:\n",
    "                cost_so_far[child] = child_cost\n",
    "                priority = child_cost + heuristic_cost(goal, child)\n",
    "                frontier.put(child, priority)  \n",
    "                came_from[child] = current\n",
    "        if frontier.empty():\n",
    "            print(\"No Solution\")    \n",
    "    graph.save_distances() # Save any calculations for future use.\n",
    "    return came_from\n",
    "            \n",
    "def path_construction(start, node, search_results):\n",
    "    if node == start:\n",
    "        return [node]\n",
    "    else:\n",
    "        list_ = [node]\n",
    "        list_.extend(path_construction(start, search_results[node], search_results))\n",
    "        return list_\n",
    "    \n",
    "def reconstruct_path(came_from, start, goal):\n",
    "    current = goal\n",
    "    path = [current]\n",
    "    while current != start:\n",
    "        current = came_from[current]\n",
    "        path.append(current)\n",
    "    path.append(start) # optional\n",
    "    path.reverse() # optional\n",
    "    return path\n",
    "\n",
    "\n",
    "#Define Problem\n",
    "#start =  '3244944628'\n",
    "#goal = '2368845458'\n",
    "start =  '1374738772'\n",
    "goal = '1056171178'\n",
    "\n",
    "start_time = time.time()\n",
    "result = bus_cost_search(graph, start, goal)\n",
    "print(\"--- %s seconds ---\" % (time.time() - start_time))\n",
    "#path_1 = reconstruct_path(result, start, goal)\n",
    "path_1 = path_construction(start, goal, result)"
   ]
  },
  {
   "cell_type": "code",
   "execution_count": null,
   "metadata": {
    "collapsed": false
   },
   "outputs": [],
   "source": [
    "# Seconds with empty dictionary 808\n",
    "# Seconds with full dictionary 575\n",
    "# Modified with full dictionary 571\n",
    "# Seconds with a* and empty dictionary 13\n",
    "# Seconds with a* and full dictionary 9\n",
    "# Seconds a* with no dictionary 79\n",
    "# Seconds a* with new save function 42"
   ]
  },
  {
   "cell_type": "code",
   "execution_count": 20,
   "metadata": {
    "collapsed": false
   },
   "outputs": [
    {
     "data": {
      "text/plain": [
       "['1056171178',\n",
       " '3205247780',\n",
       " '1369420992',\n",
       " '25524497',\n",
       " '3205247774',\n",
       " '3205246882',\n",
       " '3205246882_BUS_Nobina_31E',\n",
       " '3205247774_BUS_Nobina_31E',\n",
       " '25524497_BUS_Nobina_31E',\n",
       " '1369420992_BUS_Nobina_31E',\n",
       " '3205247780_BUS_Nobina_31E',\n",
       " '1056171178_BUS_Nobina_31E',\n",
       " '1369421025_BUS_Nobina_31E',\n",
       " '3205247782_BUS_Nobina_31E',\n",
       " '25417642_BUS_Nobina_31E',\n",
       " '41174804_BUS_Nobina_31E',\n",
       " '3552091601_BUS_Nobina_31E',\n",
       " '2785847463_BUS_Nobina_31E',\n",
       " '659304_BUS_Nobina_31E',\n",
       " '1289257479_BUS_Nobina_31E',\n",
       " '1369420979_BUS_Nobina_31E',\n",
       " '659299_BUS_Nobina_31E',\n",
       " '1132324612_BUS_Nobina_31E',\n",
       " '25524469_BUS_Nobina_31E',\n",
       " '25524523_BUS_Nobina_31E',\n",
       " '25524524_BUS_Nobina_31E',\n",
       " '3097511717_BUS_Nobina_31E',\n",
       " '3097511707_BUS_Nobina_31E',\n",
       " '3097511699_BUS_Nobina_31E',\n",
       " '3097511695_BUS_Nobina_31E',\n",
       " '3097511687_BUS_Nobina_31E',\n",
       " '3097511680_BUS_Nobina_31E',\n",
       " '3097511672_BUS_Nobina_31E',\n",
       " '3097511658_BUS_Nobina_31E',\n",
       " '3115309657_BUS_Nobina_31E',\n",
       " '3097511518_BUS_Nobina_31E',\n",
       " '3115309656_BUS_Nobina_31E',\n",
       " '3097511467_BUS_Nobina_31E',\n",
       " '3097511413_BUS_Nobina_31E',\n",
       " '3097511340_BUS_Nobina_31E',\n",
       " '3097511336_BUS_Nobina_31E',\n",
       " '1272543372_BUS_Nobina_31E',\n",
       " '25417716_BUS_Nobina_31E',\n",
       " '25417717_BUS_Nobina_31E',\n",
       " '283990_BUS_Nobina_31E',\n",
       " '283992_BUS_Nobina_31E',\n",
       " '1078982209_BUS_Nobina_31E',\n",
       " '2786910160_BUS_Nobina_31E',\n",
       " '1078982324_BUS_Nobina_31E',\n",
       " '2786910161_BUS_Nobina_31E',\n",
       " '283991_BUS_Nobina_31E',\n",
       " '4598419101_BUS_Nobina_31E',\n",
       " '796509445_BUS_Nobina_31E',\n",
       " '283996_BUS_Nobina_31E',\n",
       " '25339165_BUS_Nobina_31E',\n",
       " '25339068_BUS_Nobina_31E',\n",
       " '575561_BUS_Nobina_31E',\n",
       " '4703406040_BUS_Nobina_31E',\n",
       " '575562_BUS_Nobina_31E',\n",
       " '88200643_BUS_Nobina_31E',\n",
       " '575564_BUS_Nobina_31E',\n",
       " '21423540_BUS_Nobina_31E',\n",
       " '2908252652_BUS_Nobina_31E',\n",
       " '79313_BUS_Nobina_31E',\n",
       " '4795191325_BUS_Nobina_31E',\n",
       " '2908252660_BUS_Nobina_31E',\n",
       " '4795197170_BUS_Nobina_31E',\n",
       " '4598419095_BUS_Nobina_31E',\n",
       " '345540101_BUS_Nobina_31E',\n",
       " '4598419098_BUS_Nobina_31E',\n",
       " '1083602506_BUS_Nobina_31E',\n",
       " '1083602289_BUS_Nobina_31E',\n",
       " '428858197_BUS_Nobina_31E',\n",
       " '2570350049_BUS_Nobina_31E',\n",
       " '2668946155_BUS_Nobina_31E',\n",
       " '2702938960_BUS_Nobina_31E',\n",
       " '420860446_BUS_Nobina_31E',\n",
       " '1085421623_BUS_Nobina_31E',\n",
       " '1080851988_BUS_Nobina_31E',\n",
       " '1085421596_BUS_Nobina_31E',\n",
       " '2717567687_BUS_Nobina_31E',\n",
       " '2717567705_BUS_Nobina_31E',\n",
       " '2717567717_BUS_Nobina_31E',\n",
       " '1085421595_BUS_Nobina_31E',\n",
       " '1543093588_BUS_Nobina_31E',\n",
       " '1085421598_BUS_Nobina_31E',\n",
       " '2717567845_BUS_Nobina_31E',\n",
       " '25421475_BUS_Nobina_31E',\n",
       " '2717567901_BUS_Nobina_31E',\n",
       " '3713715636_BUS_Nobina_31E',\n",
       " '2717567909_BUS_Nobina_31E',\n",
       " '660905_BUS_Nobina_31E',\n",
       " '1241388648_BUS_Nobina_31E',\n",
       " '611772_BUS_Nobina_31E',\n",
       " '461235981_BUS_Nobina_31E',\n",
       " '3679322672_BUS_Nobina_31E',\n",
       " '1241388747_BUS_Nobina_31E',\n",
       " '2454616783_BUS_Nobina_31E',\n",
       " '4671232239_BUS_Nobina_31E',\n",
       " '3713715715_BUS_Nobina_31E',\n",
       " '2454616789_BUS_Nobina_31E',\n",
       " '461235983_BUS_Nobina_31E',\n",
       " '265553597_BUS_Nobina_31E',\n",
       " '3713716162_BUS_Nobina_31E',\n",
       " '3713716165_BUS_Nobina_31E',\n",
       " '25335259_BUS_Nobina_31E',\n",
       " '1085457179_BUS_Nobina_31E',\n",
       " '106159_BUS_Nobina_31E',\n",
       " '1124133231_BUS_Nobina_31E',\n",
       " '3165357639_BUS_Nobina_31E',\n",
       " '1124133330_BUS_Nobina_31E',\n",
       " '1241388742_BUS_Nobina_31E',\n",
       " '1241388721_BUS_Nobina_31E',\n",
       " '1241388646_BUS_Nobina_31E',\n",
       " '1241388723_BUS_Nobina_31E',\n",
       " '429658863_BUS_Nobina_31E',\n",
       " '106158_BUS_Nobina_31E',\n",
       " '1240378128_BUS_Nobina_31E',\n",
       " '3165356337_BUS_Nobina_31E',\n",
       " '429658862_BUS_Nobina_31E',\n",
       " '3211546317_BUS_Nobina_31E',\n",
       " '3211546319_BUS_Nobina_31E',\n",
       " '429658861_BUS_Nobina_31E',\n",
       " '1124133363_BUS_Nobina_31E',\n",
       " '1240378194_BUS_Nobina_31E',\n",
       " '1124133391_BUS_Nobina_31E',\n",
       " '1124133345_BUS_Nobina_31E',\n",
       " '611788_BUS_Nobina_31E',\n",
       " '3211546344_BUS_Nobina_31E',\n",
       " '611789_BUS_Nobina_31E',\n",
       " '3713530235_BUS_Nobina_31E',\n",
       " '3211546568_BUS_Nobina_31E',\n",
       " '1240289778_BUS_Nobina_31E',\n",
       " '3211546573_BUS_Nobina_31E',\n",
       " '3211546577_BUS_Nobina_31E',\n",
       " '1240289565_BUS_Nobina_31E',\n",
       " '1240289831_BUS_Nobina_31E',\n",
       " '39759456_BUS_Nobina_31E',\n",
       " '1240289523_BUS_Nobina_31E',\n",
       " '1240289445_BUS_Nobina_31E',\n",
       " '1240289805_BUS_Nobina_31E',\n",
       " '1240289592_BUS_Nobina_31E',\n",
       " '3111905223_BUS_Nobina_31E',\n",
       " '1240289664_BUS_Nobina_31E',\n",
       " '3211546598_BUS_Nobina_31E',\n",
       " '1240289480_BUS_Nobina_31E',\n",
       " '3211546604_BUS_Nobina_31E',\n",
       " '1468085376_BUS_Nobina_31E',\n",
       " '79611_BUS_Nobina_31E',\n",
       " '1468085377_BUS_Nobina_31E',\n",
       " '79612_BUS_Nobina_31E',\n",
       " '1240289645_BUS_Nobina_31E',\n",
       " '3211546618_BUS_Nobina_31E',\n",
       " '3211546620_BUS_Nobina_31E',\n",
       " '3211546622_BUS_Nobina_31E',\n",
       " '1240289431_BUS_Nobina_31E',\n",
       " '1240289427_BUS_Nobina_31E',\n",
       " '1240289633_BUS_Nobina_31E',\n",
       " '2492947070_BUS_Nobina_31E',\n",
       " '1240289715_BUS_Nobina_31E',\n",
       " '3211546631_BUS_Nobina_31E',\n",
       " '564307992_BUS_Nobina_31E',\n",
       " '3211546302_BUS_Nobina_31E',\n",
       " '1240289755_BUS_Nobina_31E',\n",
       " '3211546303_BUS_Nobina_31E',\n",
       " '1241485015_BUS_Nobina_31E',\n",
       " '79609_BUS_Nobina_31E',\n",
       " '2492947098_BUS_Nobina_31E',\n",
       " '1241485062_BUS_Nobina_31E',\n",
       " '3811921162_BUS_Nobina_31E',\n",
       " '3211546642_BUS_Nobina_31E',\n",
       " '106138_BUS_Nobina_31E',\n",
       " '1387864407_BUS_Nobina_31E',\n",
       " '1241484976_BUS_Nobina_31E',\n",
       " '79605_BUS_Nobina_31E',\n",
       " '1387802060_BUS_Nobina_31E',\n",
       " '2492947111_BUS_Nobina_31E',\n",
       " '3811785226_BUS_Nobina_31E',\n",
       " '1241485047_BUS_Nobina_31E',\n",
       " '2492947130_BUS_Nobina_31E',\n",
       " '3811785228_BUS_Nobina_31E',\n",
       " '3211546655_BUS_Nobina_31E',\n",
       " '79606_BUS_Nobina_31E',\n",
       " '3211546304_BUS_Nobina_31E',\n",
       " '330463916_BUS_Nobina_31E',\n",
       " '2492947155_BUS_Nobina_31E',\n",
       " '755804271_BUS_Nobina_31E',\n",
       " '766150613_BUS_Nobina_31E',\n",
       " '79607_BUS_Nobina_31E',\n",
       " '1241484978_BUS_Nobina_31E',\n",
       " '12534265_BUS_Nobina_31E',\n",
       " '1624391310_BUS_Nobina_31E',\n",
       " '841832182_BUS_Nobina_31E',\n",
       " '2481252138_BUS_Nobina_31E',\n",
       " '2481252143_BUS_Nobina_31E',\n",
       " '2481252145_BUS_Nobina_31E',\n",
       " '2481252148_BUS_Nobina_31E',\n",
       " '2481252150_BUS_Nobina_31E',\n",
       " '2481252152_BUS_Nobina_31E',\n",
       " '3782416274_BUS_Nobina_31E',\n",
       " '2481252163_BUS_Nobina_31E',\n",
       " '832779398_BUS_Nobina_31E',\n",
       " '3211546690_BUS_Nobina_31E',\n",
       " '832779395_BUS_Nobina_31E',\n",
       " '3211546694_BUS_Nobina_31E',\n",
       " '3211546696_BUS_Nobina_31E',\n",
       " '3211546703_BUS_Nobina_31E',\n",
       " '841832179_BUS_Nobina_31E',\n",
       " '3211546733_BUS_Nobina_31E',\n",
       " '841832146_BUS_Nobina_31E',\n",
       " '3211546745_BUS_Nobina_31E',\n",
       " '3211546749_BUS_Nobina_31E',\n",
       " '2481252173_BUS_Nobina_31E',\n",
       " '2481252174_BUS_Nobina_31E',\n",
       " '3211546762_BUS_Nobina_31E',\n",
       " '3211546793_BUS_Nobina_31E',\n",
       " '2481252187_BUS_Nobina_31E',\n",
       " '2481252130_BUS_Nobina_31E',\n",
       " '3211546807_BUS_Nobina_31E',\n",
       " '2481252205_BUS_Nobina_31E',\n",
       " '3211546864_BUS_Nobina_31E',\n",
       " '3211546904_BUS_Nobina_31E',\n",
       " '2481252209_BUS_Nobina_31E',\n",
       " '2481252213_BUS_Nobina_31E',\n",
       " '2481252215_BUS_Nobina_31E',\n",
       " '2481252217_BUS_Nobina_31E',\n",
       " '3211546988_BUS_Nobina_31E',\n",
       " '2481252224_BUS_Nobina_31E',\n",
       " '3211547029_BUS_Nobina_31E',\n",
       " '3211547041_BUS_Nobina_31E',\n",
       " '2481252229_BUS_Nobina_31E',\n",
       " '3211547056_BUS_Nobina_31E',\n",
       " '30391574_BUS_Nobina_31E',\n",
       " '30391575_BUS_Nobina_31E',\n",
       " '3211547229_BUS_Nobina_31E',\n",
       " '754016627_BUS_Nobina_31E',\n",
       " '3211547251_BUS_Nobina_31E',\n",
       " '2481252241_BUS_Nobina_31E',\n",
       " '2481252245_BUS_Nobina_31E',\n",
       " '3211547367_BUS_Nobina_31E',\n",
       " '3211547395_BUS_Nobina_31E',\n",
       " '2481252249_BUS_Nobina_31E',\n",
       " '3211547431_BUS_Nobina_31E',\n",
       " '1180831573_BUS_Nobina_31E',\n",
       " '2481252254_BUS_Nobina_31E',\n",
       " '3211547494_BUS_Nobina_31E',\n",
       " '2481252255_BUS_Nobina_31E',\n",
       " '3211547522_BUS_Nobina_31E',\n",
       " '2481252258_BUS_Nobina_31E',\n",
       " '3211547531_BUS_Nobina_31E',\n",
       " '2481252259_BUS_Nobina_31E',\n",
       " '3211547532_BUS_Nobina_31E',\n",
       " '79511_BUS_Nobina_31E',\n",
       " '443699258_BUS_Nobina_31E',\n",
       " '3211547535_BUS_Nobina_31E',\n",
       " '79510_BUS_Nobina_31E',\n",
       " '443699257_BUS_Nobina_31E',\n",
       " '3211547539_BUS_Nobina_31E',\n",
       " '443699256_BUS_Nobina_31E',\n",
       " '3211547543_BUS_Nobina_31E',\n",
       " '79516_BUS_Nobina_31E',\n",
       " '3211547547_BUS_Nobina_31E',\n",
       " '443699266_BUS_Nobina_31E',\n",
       " '3211547549_BUS_Nobina_31E',\n",
       " '443699265_BUS_Nobina_31E',\n",
       " '3211547550_BUS_Nobina_31E',\n",
       " '79515_BUS_Nobina_31E',\n",
       " '1180831551_BUS_Nobina_31E',\n",
       " '2481252269_BUS_Nobina_31E',\n",
       " '1180831445_BUS_Nobina_31E',\n",
       " '1180831590_BUS_Nobina_31E',\n",
       " '2481252280_BUS_Nobina_31E',\n",
       " '3214830410_BUS_Nobina_31E',\n",
       " '3214830412_BUS_Nobina_31E',\n",
       " '3214830413_BUS_Nobina_31E',\n",
       " '1180831593_BUS_Nobina_31E',\n",
       " '3214830416_BUS_Nobina_31E',\n",
       " '1180831498_BUS_Nobina_31E',\n",
       " '1180831544_BUS_Nobina_31E',\n",
       " '3214830426_BUS_Nobina_31E',\n",
       " '3214830434_BUS_Nobina_31E',\n",
       " '3214830440_BUS_Nobina_31E',\n",
       " '3214830446_BUS_Nobina_31E',\n",
       " '80074_BUS_Nobina_31E',\n",
       " '3214830452_BUS_Nobina_31E',\n",
       " '3214830454_BUS_Nobina_31E',\n",
       " '3214830456_BUS_Nobina_31E',\n",
       " '103914_BUS_Nobina_31E',\n",
       " '3214834161_BUS_Nobina_31E',\n",
       " '637024847_BUS_Nobina_31E',\n",
       " '3214834165_BUS_Nobina_31E',\n",
       " '3912857691_BUS_Nobina_31E',\n",
       " '3214834167_BUS_Nobina_31E',\n",
       " '3214834169_BUS_Nobina_31E',\n",
       " '103920_BUS_Nobina_31E',\n",
       " '3214834173_BUS_Nobina_31E',\n",
       " '3214834174_BUS_Nobina_31E',\n",
       " '3214834176_BUS_Nobina_31E',\n",
       " '880649893_BUS_Nobina_31E',\n",
       " '3214834178_BUS_Nobina_31E',\n",
       " '3214834179_BUS_Nobina_31E',\n",
       " '3214834181_BUS_Nobina_31E',\n",
       " '3554889550_BUS_Nobina_31E',\n",
       " '103907_BUS_Nobina_31E',\n",
       " '3214834183_BUS_Nobina_31E',\n",
       " '103905_BUS_Nobina_31E',\n",
       " '3912857692_BUS_Nobina_31E',\n",
       " '3214830375_BUS_Nobina_31E',\n",
       " '3912857693_BUS_Nobina_31E',\n",
       " '880649892_BUS_Nobina_31E',\n",
       " '3214834196_BUS_Nobina_31E',\n",
       " '3214834198_BUS_Nobina_31E',\n",
       " '3214834199_BUS_Nobina_31E',\n",
       " '103884_BUS_Nobina_31E',\n",
       " '3214834231_BUS_Nobina_31E',\n",
       " '3912857694_BUS_Nobina_31E',\n",
       " '28391157_BUS_Nobina_31E',\n",
       " '619900498_BUS_Nobina_31E',\n",
       " '3214834361_BUS_Nobina_31E',\n",
       " '619900496_BUS_Nobina_31E',\n",
       " '619900493_BUS_Nobina_31E',\n",
       " '619900492_BUS_Nobina_31E',\n",
       " '443699645_BUS_Nobina_31E',\n",
       " '3474966032_BUS_Nobina_31E',\n",
       " '33250444_BUS_Nobina_31E',\n",
       " '3474966033_BUS_Nobina_31E',\n",
       " '443699644_BUS_Nobina_31E',\n",
       " '3214834401_BUS_Nobina_31E',\n",
       " '3214834413_BUS_Nobina_31E',\n",
       " '3214834421_BUS_Nobina_31E',\n",
       " '3214834427_BUS_Nobina_31E',\n",
       " '3214834452_BUS_Nobina_31E',\n",
       " '961652910_BUS_Nobina_31E',\n",
       " '103885_BUS_Nobina_31E',\n",
       " '1450994762_BUS_Nobina_31E',\n",
       " '3214834792_BUS_Nobina_31E',\n",
       " '3214834816_BUS_Nobina_31E',\n",
       " '3214835651_BUS_Nobina_31E',\n",
       " '3214834842_BUS_Nobina_31E',\n",
       " '103886_BUS_Nobina_31E',\n",
       " '3214834894_BUS_Nobina_31E',\n",
       " '649587_BUS_Nobina_31E',\n",
       " '3214834955_BUS_Nobina_31E',\n",
       " '291720806_BUS_Nobina_31E',\n",
       " '3214835652_BUS_Nobina_31E',\n",
       " '1482296230_BUS_Nobina_31E',\n",
       " '3214835192_BUS_Nobina_31E',\n",
       " '3214835201_BUS_Nobina_31E',\n",
       " '3214835209_BUS_Nobina_31E',\n",
       " '1371890598_BUS_Nobina_31E',\n",
       " '3214835224_BUS_Nobina_31E',\n",
       " '1272416386_BUS_Nobina_31E',\n",
       " '282629720_BUS_Nobina_31E',\n",
       " '3214835653_BUS_Nobina_31E',\n",
       " '649537_BUS_Nobina_31E',\n",
       " '1666447216_BUS_Nobina_31E',\n",
       " '649538_BUS_Nobina_31E',\n",
       " '3214835296_BUS_Nobina_31E',\n",
       " '3214835310_BUS_Nobina_31E',\n",
       " '3214835654_BUS_Nobina_31E',\n",
       " '860463355_BUS_Nobina_31E',\n",
       " '3214835477_BUS_Nobina_31E',\n",
       " '1987119974_BUS_Nobina_31E',\n",
       " '3214835484_BUS_Nobina_31E',\n",
       " '282629719_BUS_Nobina_31E',\n",
       " '1987120005_BUS_Nobina_31E',\n",
       " '103888_BUS_Nobina_31E',\n",
       " '3214835499_BUS_Nobina_31E',\n",
       " '1774505958_BUS_Nobina_31E',\n",
       " '3214835519_BUS_Nobina_31E',\n",
       " '3214835551_BUS_Nobina_31E',\n",
       " '3214835574_BUS_Nobina_31E',\n",
       " '208366101_BUS_Nobina_31E',\n",
       " '1665108649_BUS_Nobina_31E',\n",
       " '3214835604_BUS_Nobina_31E',\n",
       " '3214835602_BUS_Nobina_31E',\n",
       " '1665108654_BUS_Nobina_31E',\n",
       " '3214835599_BUS_Nobina_31E',\n",
       " '282629602_BUS_Nobina_31E',\n",
       " '3214830384_BUS_Nobina_31E',\n",
       " '3214830383_BUS_Nobina_31E',\n",
       " '746559515_BUS_Nobina_31E',\n",
       " '3214835534_BUS_Nobina_31E',\n",
       " '3214835526_BUS_Nobina_31E',\n",
       " '103893_BUS_Nobina_31E',\n",
       " '3214835516_BUS_Nobina_31E',\n",
       " '3214835515_BUS_Nobina_31E',\n",
       " '6925527_BUS_Nobina_31E',\n",
       " '1304034576_BUS_Nobina_31E',\n",
       " '3214835510_BUS_Nobina_31E',\n",
       " '3214835512_BUS_Nobina_31E',\n",
       " '1338032053_BUS_Nobina_31E',\n",
       " '1338032054_BUS_Nobina_31E',\n",
       " '3214835528_BUS_Nobina_31E',\n",
       " '3214835540_BUS_Nobina_31E',\n",
       " '3214835552_BUS_Nobina_31E',\n",
       " '6925523_BUS_Nobina_31E',\n",
       " '747226961_BUS_Nobina_31E',\n",
       " '3214835593_BUS_Nobina_31E',\n",
       " '3214835596_BUS_Nobina_31E',\n",
       " '748230798_BUS_Nobina_31E',\n",
       " '6925534_BUS_Nobina_31E',\n",
       " '3214830385_BUS_Nobina_31E',\n",
       " '3214830386_BUS_Nobina_31E',\n",
       " '3214835600_BUS_Nobina_31E',\n",
       " '1325694313_BUS_Nobina_31E',\n",
       " '6925528_BUS_Nobina_31E',\n",
       " '897594249_BUS_Nobina_31E',\n",
       " '1325694350_BUS_Nobina_31E',\n",
       " '1325694373_BUS_Nobina_31E',\n",
       " '6925537_BUS_Nobina_31E',\n",
       " '3214835533_BUS_Nobina_31E',\n",
       " '897594269_BUS_Nobina_31E',\n",
       " '6925542_BUS_Nobina_31E',\n",
       " '6925543_BUS_Nobina_31E',\n",
       " '1325694375_BUS_Nobina_31E',\n",
       " '3214835463_BUS_Nobina_31E',\n",
       " '3214835352_BUS_Nobina_31E',\n",
       " '3214835341_BUS_Nobina_31E',\n",
       " '6925546_BUS_Nobina_31E',\n",
       " '3214835317_BUS_Nobina_31E',\n",
       " '897594275_BUS_Nobina_31E',\n",
       " '3214835297_BUS_Nobina_31E',\n",
       " '6925549_BUS_Nobina_31E',\n",
       " '3214835287_BUS_Nobina_31E',\n",
       " '303996575_BUS_Nobina_31E',\n",
       " '3214835285_BUS_Nobina_31E',\n",
       " '650596_BUS_Nobina_31E',\n",
       " '3214835283_BUS_Nobina_31E',\n",
       " '843477896_BUS_Nobina_31E',\n",
       " '650586_BUS_Nobina_31E',\n",
       " '3214835288_BUS_Nobina_31E',\n",
       " '843477886_BUS_Nobina_31E',\n",
       " '3214835280_BUS_Nobina_31E',\n",
       " '650585_BUS_Nobina_31E',\n",
       " '3214830388_BUS_Nobina_31E',\n",
       " '3214830388',\n",
       " '3214830388_BUS_Norgesbuss_60',\n",
       " '843477898_BUS_Norgesbuss_60',\n",
       " '3214830387_BUS_Norgesbuss_60',\n",
       " '3214835245_BUS_Norgesbuss_60',\n",
       " '843477900_BUS_Norgesbuss_60',\n",
       " '3214835228_BUS_Norgesbuss_60',\n",
       " '650584_BUS_Norgesbuss_60',\n",
       " '3214835205_BUS_Norgesbuss_60',\n",
       " '843477889_BUS_Norgesbuss_60',\n",
       " '650583_BUS_Norgesbuss_60',\n",
       " '3214835167_BUS_Norgesbuss_60',\n",
       " '3214835161_BUS_Norgesbuss_60',\n",
       " '3214834958_BUS_Norgesbuss_60',\n",
       " '650582_BUS_Norgesbuss_60',\n",
       " '1774505956_BUS_Norgesbuss_60',\n",
       " '3214834934_BUS_Norgesbuss_60',\n",
       " '843477890_BUS_Norgesbuss_60',\n",
       " '3214834902_BUS_Norgesbuss_60',\n",
       " '650581_BUS_Norgesbuss_60',\n",
       " '3214834876_BUS_Norgesbuss_60',\n",
       " '3214834874_BUS_Norgesbuss_60',\n",
       " '3214830379_BUS_Norgesbuss_60',\n",
       " '1302749625_BUS_Norgesbuss_60',\n",
       " '3214830378_BUS_Norgesbuss_60',\n",
       " '650580_BUS_Norgesbuss_60',\n",
       " '3214834869_BUS_Norgesbuss_60',\n",
       " '1774505954_BUS_Norgesbuss_60',\n",
       " '3214834877_BUS_Norgesbuss_60',\n",
       " '3214830381_BUS_Norgesbuss_60',\n",
       " '1337985146_BUS_Norgesbuss_60',\n",
       " '3214834919_BUS_Norgesbuss_60',\n",
       " '389039165_BUS_Norgesbuss_60',\n",
       " '3214834821_BUS_Norgesbuss_60',\n",
       " '1337985153_BUS_Norgesbuss_60',\n",
       " '3214834803_BUS_Norgesbuss_60',\n",
       " '1337985138_BUS_Norgesbuss_60',\n",
       " '443704915_BUS_Norgesbuss_60',\n",
       " '3214830380_BUS_Norgesbuss_60',\n",
       " '1337985102_BUS_Norgesbuss_60',\n",
       " '103853_BUS_Norgesbuss_60',\n",
       " '3214834512_BUS_Norgesbuss_60',\n",
       " '638841824_BUS_Norgesbuss_60',\n",
       " '3214834482_BUS_Norgesbuss_60',\n",
       " '3214834465_BUS_Norgesbuss_60',\n",
       " '3214834456_BUS_Norgesbuss_60',\n",
       " '103854_BUS_Norgesbuss_60',\n",
       " '3214834434_BUS_Norgesbuss_60',\n",
       " '638841825_BUS_Norgesbuss_60',\n",
       " '3214834415_BUS_Norgesbuss_60',\n",
       " '3214834414_BUS_Norgesbuss_60',\n",
       " '3214834416_BUS_Norgesbuss_60',\n",
       " '103858_BUS_Norgesbuss_60',\n",
       " '3214834457_BUS_Norgesbuss_60',\n",
       " '443700466_BUS_Norgesbuss_60',\n",
       " '1374738777_BUS_Norgesbuss_60',\n",
       " '3214834494_BUS_Norgesbuss_60',\n",
       " '472276583_BUS_Norgesbuss_60',\n",
       " '650599_BUS_Norgesbuss_60',\n",
       " '650599',\n",
       " '472276583',\n",
       " '3214834494',\n",
       " '1374738777',\n",
       " '3214834460',\n",
       " '3214834454',\n",
       " '3214834423',\n",
       " '472276578',\n",
       " '1374738772']"
      ]
     },
     "execution_count": 20,
     "metadata": {},
     "output_type": "execute_result"
    }
   ],
   "source": [
    "path_1"
   ]
  },
  {
   "cell_type": "code",
   "execution_count": 19,
   "metadata": {
    "collapsed": false,
    "scrolled": false
   },
   "outputs": [
    {
     "data": {
      "text/html": [
       "<div style=\"width:100%;\"><div style=\"position:relative;width:100%;height:0;padding-bottom:60%;\"><iframe src=\"data:text/html;base64,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\" style=\"position:absolute;width:100%;height:100%;left:0;top:0;\"></iframe></div></div>"
      ],
      "text/plain": [
       "<folium.folium.Map at 0x10a1c0f98>"
      ]
     },
     "execution_count": 19,
     "metadata": {},
     "output_type": "execute_result"
    }
   ],
   "source": [
    "import folium\n",
    "m = folium.Map(location=[ 59.9139, 10.7522], zoom_start=14)\n",
    "folium.GeoJson(graph.node_path_geojson(path_1),\n",
    "    style_function=lambda x: {\n",
    "        'color' : 'black',\n",
    "        'weight' : 3,\n",
    "        'opacity': 1,\n",
    "        'fillColor' : 'black'\n",
    "        }).add_to(m)\n",
    "m"
   ]
  },
  {
   "cell_type": "markdown",
   "metadata": {},
   "source": [
    "## Search Algorithms"
   ]
  },
  {
   "cell_type": "code",
   "execution_count": null,
   "metadata": {
    "collapsed": false
   },
   "outputs": [],
   "source": [
    "from time import time\n",
    "from collections import deque\n",
    "\n",
    "def breadth_first_search(graph, start, goal):\n",
    "    frontier = deque([])\n",
    "    frontier.append(start)\n",
    "    came_from = {}\n",
    "    came_from[start] = None\n",
    "    \n",
    "    while len(frontier) > 0:\n",
    "        current = frontier.popleft()\n",
    "        if current == goal:\n",
    "            print(\"Solution Found\")\n",
    "            break\n",
    "        children = graph.node_neighbours(current)\n",
    "        for child in children:\n",
    "            if child not in came_from:\n",
    "                frontier.append(child)\n",
    "                came_from[child] = current\n",
    "    return came_from\n",
    "\n",
    "def uniform_cost_search(graph, start, goal):\n",
    "    frontier = PriorityQueue()\n",
    "    frontier.put(start, 0)\n",
    "    came_from = {}\n",
    "    cost_so_far = {}\n",
    "    \n",
    "    came_from[start] = None\n",
    "    cost_so_far[start] = 0\n",
    "    \n",
    "    while not frontier.empty():\n",
    "        current = frontier.get()\n",
    "        #Check if the goal has been expanded\n",
    "        if goal == current:\n",
    "            print(\"Solution Found\")\n",
    "            break\n",
    "        \n",
    "        for child in graph.node_neighbours(current):\n",
    "            child_cost = cost_so_far[current] + graph.distance_measure(current, child)\n",
    "            if child not in came_from or child_cost < cost_so_far[child]:\n",
    "                priority = child_cost\n",
    "                frontier.put(child, priority)\n",
    "                came_from[child] = current\n",
    "                cost_so_far[child] = child_cost\n",
    "        if frontier.empty():\n",
    "            print(\"No Solution\")\n",
    "                \n",
    "    return came_from\n",
    "\n",
    "def a_star_search(graph, start, goal):\n",
    "    frontier = PriorityQueue()\n",
    "    frontier.put(start, 0)\n",
    "    came_from = {}\n",
    "    cost_so_far = {}\n",
    "    \n",
    "    came_from[start] = None\n",
    "    cost_so_far[start] = 0\n",
    "    \n",
    "    while not frontier.empty():\n",
    "        current = frontier.get()\n",
    "        #Check if the goal has been expanded\n",
    "        if goal == current:\n",
    "            print(\"Solution Found\")\n",
    "            break\n",
    "        \n",
    "        for child in graph.node_neighbours(current):\n",
    "            child_cost = cost_so_far[current] + graph.distance_measure(current, child)\n",
    "            if child not in came_from or child_cost < cost_so_far[child]:\n",
    "                priority = child_cost\n",
    "                frontier.put(child, priority)\n",
    "                came_from[child] = current\n",
    "                cost_so_far[child] = child_cost + graph.distance_measure(goal, child)\n",
    "        if frontier.empty():\n",
    "            print(\"No Solution\")\n",
    "                \n",
    "    return came_from\n",
    "\n",
    "def path_construction(start, node, search_results):\n",
    "    if node == start:\n",
    "        return [node]\n",
    "    else:\n",
    "        list_ = [node]\n",
    "        list_.extend(path_construction(start, search_results[node], search_results))\n",
    "        return list_"
   ]
  },
  {
   "cell_type": "code",
   "execution_count": null,
   "metadata": {
    "collapsed": false
   },
   "outputs": [],
   "source": [
    "#Define Problem\n",
    "start =  80005\n",
    "goal = 260365663\n",
    "search_results = breadth_first_search(graph, start, goal)\n",
    "path_1 = path_construction(start, goal, search_results)\n",
    "#search_results = uniform_cost_search(graph, start, goal)\n",
    "#path_2 = path_construction(start, goal, search_results)\n",
    "#search_results = a_star_search(graph, start, goal)\n",
    "#path_2 = path_construction(start, goal, search_results)"
   ]
  },
  {
   "cell_type": "code",
   "execution_count": null,
   "metadata": {
    "collapsed": false
   },
   "outputs": [],
   "source": [
    "import psycopg2\n",
    "from psycopg2.extras import RealDictCursor\n",
    "import json\n",
    "conn_string = \"host='localhost' dbname='osm' user='dcromp'\"\n",
    "# print the connection string we will use to connect\n",
    "print (\"Connecting to database\\n->%s\" % (conn_string))\n",
    " \n",
    "# get a connection, if a connect cannot be made an exception will be raised here\n",
    "conn = psycopg2.connect(conn_string)\n",
    " \n",
    "# conn.cursor will return a cursor object, you can use this cursor to perform queries\n",
    "cursor = conn.cursor()\n",
    "print (\"Connected!\\n\")"
   ]
  },
  {
   "cell_type": "code",
   "execution_count": null,
   "metadata": {
    "collapsed": false
   },
   "outputs": [],
   "source": [
    "# execute our Query\n",
    "cursor.execute(\"select relation_id from relation_members where member_id = 266052566\")"
   ]
  },
  {
   "cell_type": "code",
   "execution_count": null,
   "metadata": {
    "collapsed": true
   },
   "outputs": [],
   "source": [
    "records = cursor.fetchall()"
   ]
  },
  {
   "cell_type": "code",
   "execution_count": null,
   "metadata": {
    "collapsed": false
   },
   "outputs": [],
   "source": [
    "records"
   ]
  },
  {
   "cell_type": "code",
   "execution_count": null,
   "metadata": {
    "collapsed": false
   },
   "outputs": [],
   "source": [
    "records[0][0].replace('POINT(', ' ').replace(')', '').split(' ')[1:3]"
   ]
  },
  {
   "cell_type": "code",
   "execution_count": null,
   "metadata": {
    "collapsed": false
   },
   "outputs": [],
   "source": [
    "getattr(Point, 'POINT(10.8501136 59.9435552)')"
   ]
  },
  {
   "cell_type": "code",
   "execution_count": null,
   "metadata": {
    "collapsed": false
   },
   "outputs": [],
   "source": [
    "test = tagger(records[0][5])\n",
    "print(test)"
   ]
  },
  {
   "cell_type": "code",
   "execution_count": null,
   "metadata": {
    "collapsed": false
   },
   "outputs": [],
   "source": [
    "def tagger(self, string):\n",
    "        \"\"\"\n",
    "        Converts and osmosis tag into a python dictionary\n",
    "\n",
    "        Args:\n",
    "            Osmosis tag, Example: '\"source\"=>\"bing\", \"highway\"=>\"crossing\"'\n",
    "        Returns:\n",
    "            Python dictionary\n",
    "            {'source':'bing', 'highway':'crossing'}\n",
    "        \"\"\"\n",
    "        tag_list = string.replace('\"','' ).replace(' ','' ).split(',')\n",
    "        tuples = (x.split('=>') for x in tag_list) # Each tag value pair is now a list of tuples\n",
    "        return{tuple_[0]:tuple_[1] for tuple_ in tuples}"
   ]
  },
  {
   "cell_type": "code",
   "execution_count": null,
   "metadata": {
    "collapsed": false
   },
   "outputs": [],
   "source": [
    "graph.node_neighbours(80005)"
   ]
  },
  {
   "cell_type": "code",
   "execution_count": null,
   "metadata": {
    "collapsed": false
   },
   "outputs": [],
   "source": [
    "from osmapi import OsmApi\n",
    "from geojson import LineString, GeometryCollection, Point\n",
    "import folium\n",
    "from collections import deque\n",
    "import bz2"
   ]
  },
  {
   "cell_type": "code",
   "execution_count": null,
   "metadata": {
    "collapsed": true
   },
   "outputs": [],
   "source": []
  },
  {
   "cell_type": "code",
   "execution_count": null,
   "metadata": {
    "collapsed": true
   },
   "outputs": [],
   "source": []
  },
  {
   "cell_type": "code",
   "execution_count": null,
   "metadata": {
    "collapsed": false
   },
   "outputs": [],
   "source": [
    "MyApi = OsmApi()"
   ]
  },
  {
   "cell_type": "markdown",
   "metadata": {},
   "source": [
    "def Map(\tself, min_lon, min_lat, max_lon, max_lat)\n",
    "Download data in bounding box. Returns list of dict { type: node|way|relation, data: {} }."
   ]
  },
  {
   "cell_type": "code",
   "execution_count": null,
   "metadata": {
    "collapsed": false
   },
   "outputs": [],
   "source": [
    "highway_tags = ['motorway', 'trunk', 'primary', 'secondary', 'tertiary', 'unclassified', 'residential',\n",
    "                            'service', 'motorway_link', 'trunk_link', 'primary_link', 'secondary_link', 'tertiary_link',\n",
    "                            'living_street', 'pedestrian', 'road']\n",
    "#Raw Data\n",
    "map_data = MyApi.Map(22.216864,60.416923,22.286005,60.451442)\n",
    "way_data = [row for row in map_data if row['type'] == 'way']\n",
    "node_data = [row for row in map_data if row['type'] == 'node']\n",
    "highway_raw = [row for row in way_data if 'highway' in row['data']['tag'].keys()]\n",
    "highway_data = [row for row in highway_raw for tag in highway_tags if tag in row['data']['tag']['highway']]\n",
    "link_data = [row for row in way_data if 'highway' in row['data']['tag'].keys() and 'link' in row['data']['tag']['highway']]"
   ]
  },
  {
   "cell_type": "code",
   "execution_count": null,
   "metadata": {
    "collapsed": true
   },
   "outputs": [],
   "source": [
    "#Helper functions\n",
    "def node2loc(node_id):\n",
    "    for node in node_data:\n",
    "        if node_id == node['data']['id']:\n",
    "            return (node['data']['lon'], node['data']['lat'])"
   ]
  },
  {
   "cell_type": "code",
   "execution_count": null,
   "metadata": {
    "collapsed": false
   },
   "outputs": [],
   "source": [
    "#All Roads to GeoJson\n",
    "roads = []\n",
    "for highway in highway_data:\n",
    "    road = []\n",
    "    nodes = highway['data']['nd'] #List of nodes in highway\n",
    "    for node in nodes:\n",
    "        road.append(node2loc(node))\n",
    "    roads.append(LineString(road))\n",
    "geo_json = GeometryCollection(roads)"
   ]
  },
  {
   "cell_type": "code",
   "execution_count": null,
   "metadata": {
    "collapsed": false
   },
   "outputs": [],
   "source": [
    "m = folium.Map(location=[ 60.4518, 22.2666], zoom_start=15)\n",
    "folium.GeoJson(geo_json,\n",
    "    style_function=lambda x: {\n",
    "        'color' : 'black',\n",
    "        'weight' : 3\n",
    "        ,\n",
    "        'opacity': 1,\n",
    "        'fillColor' : 'black',\n",
    "        }).add_to(m)"
   ]
  },
  {
   "cell_type": "code",
   "execution_count": null,
   "metadata": {
    "collapsed": false,
    "scrolled": false
   },
   "outputs": [],
   "source": [
    "m"
   ]
  },
  {
   "cell_type": "code",
   "execution_count": null,
   "metadata": {
    "collapsed": false
   },
   "outputs": [],
   "source": [
    "#Road turn\n",
    "turns = set()\n",
    "for highway_1 in highway_data:\n",
    "    nodes_1 = highway_1['data']['nd']\n",
    "    for node_1 in nodes_1:\n",
    "        for highway_2 in highway_data: \n",
    "            if highway_2 != highway_1:\n",
    "                nodes_2 = highway_2['data']['nd']\n",
    "                for node_2 in nodes_2:\n",
    "                    if node_2 == node_1:\n",
    "                        turns.add(node2loc(node_1))\n",
    "\n",
    "turn_geojson = GeometryCollection([Point(turn) for turn in list(turns)])"
   ]
  },
  {
   "cell_type": "code",
   "execution_count": null,
   "metadata": {
    "collapsed": false
   },
   "outputs": [],
   "source": [
    "m = folium.Map(location=[60.4518, 22.2666], zoom_start=15)\n",
    "folium.GeoJson(geo_json,\n",
    "    style_function=lambda x: {\n",
    "        'color' : 'black',\n",
    "        'weight' : 3\n",
    "        ,\n",
    "        'opacity': 1,\n",
    "        'fillColor' : 'black',\n",
    "        }).add_to(m)\n",
    "folium.GeoJson(turn_geojson,\n",
    "    style_function=lambda x: {\n",
    "        'color' : 'black',\n",
    "        'weight' : 3\n",
    "        ,\n",
    "        'opacity': 1,\n",
    "        'fillColor' : 'black',\n",
    "        }).add_to(m)"
   ]
  },
  {
   "cell_type": "code",
   "execution_count": null,
   "metadata": {
    "collapsed": false
   },
   "outputs": [],
   "source": [
    "m"
   ]
  },
  {
   "cell_type": "code",
   "execution_count": null,
   "metadata": {
    "collapsed": false
   },
   "outputs": [],
   "source": [
    "from osmapi import OsmApi\n",
    "from geojson import LineString, GeometryCollection, Point\n",
    "from math import radians, sin, cos, sqrt, asin\n",
    "import heapq\n",
    "import numpy as np\n",
    "\n",
    "class GraphPlan(object):\n",
    "    \"\"\" Process data in a bounding box to produce data structures needed for\n",
    "        a graph search\n",
    "    \"\"\"\n",
    "    def __init__(self, lon1,  lat1, lon2, lat2):\n",
    "        self.MyApi = OsmApi()\n",
    "        \n",
    "        #List of allowed road types\n",
    "        self.highway_tags = ['motorway', 'trunk', 'primary', 'secondary', 'tertiary', 'unclassified', 'residential',\n",
    "                            'service', 'motorway_link', 'trunk_link', 'primary_link', 'secondary_link', 'tertiary_link',\n",
    "                            'living_street', 'pedestrian', 'road']\n",
    "        \n",
    "        #Extract basic data units\n",
    "        self.bounding_box = [lon1,  lat1, lon2, lat2]\n",
    "        self.map_data = self.MyApi.Map(lon1,  lat1, lon2, lat2)\n",
    "        self.way_data = [row for row in self.map_data if row['type'] == 'way']\n",
    "        self.node_data = [row for row in self.map_data if row['type'] == 'node']\n",
    "        self.highway_data = [row for row in self.way_data if 'highway' in row['data']['tag'].keys()]\n",
    "        #self.highway_data = [row for row in self.highway_raw for tag in self.highway_tags if tag in row['data']['tag']['highway']]\n",
    "        \n",
    "        #Node_id to lon lat\n",
    "        self.node_ids = [node['data']['id'] for node in self.node_data]\n",
    "        #self.node_id_loc = {node_id:self.node2loc(node_id) for node_id in self.node_ids}\n",
    "        \n",
    "        #Dictionary of road_id and list of node ID's\n",
    "        self.roads = {highway['data']['id']:highway['data']['nd'] for highway in self.highway_data}\n",
    "        \n",
    "        #Dictionary of node_id and list of road_ID's\n",
    "        self.node_roads = self.__node_roads_dict()\n",
    "        \n",
    "        #List of unique nodes at road changes or turns\n",
    "        self.turns = self.__turn_extractor(self.roads)\n",
    "        \n",
    "        #Road_id and their turns\n",
    "        self.road_turns = self.__road_turns(self.roads)\n",
    "        \n",
    "        self.neighbours = self.__neigbour_nodes()\n",
    "        \n",
    "        \n",
    "    #Private Methods\n",
    "    def __road_turns(self, roads):\n",
    "        road_turns = {}\n",
    "        for key in self.roads.keys():\n",
    "            temp_turns = []\n",
    "            for node in roads[key]:\n",
    "                if node in self.turns:\n",
    "                    temp_turns.append(node)\n",
    "            road_turns[key] = temp_turns\n",
    "        return road_turns\n",
    "    \n",
    "    def __turn_extractor(self, roads):\n",
    "        turns = set()\n",
    "        for road_1 in self.roads.keys():\n",
    "            nodes_1 = self.roads[road_1]\n",
    "            for node_1 in nodes_1:\n",
    "                for road_2 in self.roads.keys(): \n",
    "                    if road_2 != road_1:\n",
    "                        nodes_2 = self.roads[road_2]\n",
    "                        for node_2 in nodes_2:\n",
    "                            if node_2 == node_1:\n",
    "                                turns.add(node_1)\n",
    "        return list(turns)\n",
    "    \n",
    "    def __neigbour_nodes(self):\n",
    "        neighbours_dict = {}\n",
    "        for road in self.roads:\n",
    "            for index, node in enumerate(self.roads[road]):\n",
    "                forward_node = index + 1\n",
    "                backward_node = index - 1\n",
    "                try:\n",
    "                    forward = self.roads[road][forward_node]\n",
    "                    if node not in neighbours_dict:\n",
    "                        neighbours_dict[node] = [forward]\n",
    "                    else:\n",
    "                        list_ = neighbours_dict[node]\n",
    "                        list_.append(forward)\n",
    "                        neighbours_dict[node] = list_\n",
    "                except:\n",
    "                    pass\n",
    "                if backward_node >= 0:\n",
    "                    try:\n",
    "                        backward = self.roads[road][backward_node]\n",
    "                        if node not in neighbours_dict:\n",
    "                            neighbours_dict[node] = [backward]\n",
    "                        else:\n",
    "                            list_ = neighbours_dict[node]\n",
    "                            list_.append(backward)\n",
    "                            neighbours_dict[node] = list_\n",
    "                    except:\n",
    "                        pass \n",
    "        return neighbours_dict\n",
    "    \n",
    "    def __node_roads_dict(self):\n",
    "        node_roads = {}\n",
    "        for road in list(self.roads.keys()):\n",
    "            for node in self.roads[road]:\n",
    "                if node not in list(node_roads.keys()):\n",
    "                    node_roads[node] = [road]\n",
    "                else:\n",
    "                    list_ = node_roads[node]\n",
    "                    list_.append(road)\n",
    "                    node_roads[node] = list_\n",
    "        return node_roads\n",
    "    \n",
    "    def __haversine(self, lat1, lon1, lat2, lon2):\n",
    "        R = 6372.8 # Earth radius in kilometers\n",
    "        dLat = radians(lat2 - lat1)\n",
    "        dLon = radians(lon2 - lon1)\n",
    "        lat1 = radians(lat1)\n",
    "        lat2 = radians(lat2)\n",
    "        a = sin(dLat/2)**2 + cos(lat1)*cos(lat2)*sin(dLon/2)**2\n",
    "        c = 2*asin(sqrt(a))\n",
    "        return R * c\n",
    "    \n",
    "    #Helper Methods\n",
    "    def node2loc(self, node_id):\n",
    "        for node in self.node_data:\n",
    "            if node_id == node['data']['id']:\n",
    "                return (node['data']['lon'], node['data']['lat'])\n",
    "    \n",
    "    def node2road(self, node_id):\n",
    "        return self.node_roads[node_id] #List of roads node is in\n",
    "    \n",
    "    def neighbour_list(self, node_id):\n",
    "        return self.neighbours[node_id]\n",
    "    \n",
    "    def node_path_geojson(self, node_list):\n",
    "        roads = []\n",
    "        for node in node_list:\n",
    "            roads.append(self.node2loc(node))\n",
    "        return LineString(roads)\n",
    "    \n",
    "    def distance_measure(self, node1, node2):\n",
    "        lon1, lat1 = self.node2loc(node1)\n",
    "        lon2, lat2 = self.node2loc(node2)\n",
    "        lon = lon1 - lon2\n",
    "        lat = lat1 - lat2\n",
    "        return np.sqrt(np.square(lon) + np.square(lat))\n",
    "    \n",
    "    def node_distance(self, node1, node2):\n",
    "        lon1, lat1 = self.node2loc(node1)\n",
    "        lon2, lat2 = self.node2loc(node2)\n",
    "        distance = self.__haversine(lat1, lon1, lat2, lon2)\n",
    "        return distance\n",
    "    \n",
    "class PriorityQueue:\n",
    "    def __init__(self):\n",
    "        self.elements = []\n",
    "    \n",
    "    def empty(self):\n",
    "        return len(self.elements) == 0\n",
    "    \n",
    "    def put(self, item, priority):\n",
    "        heapq.heappush(self.elements, (priority, item))\n",
    "    \n",
    "    def get(self):\n",
    "        return heapq.heappop(self.elements)[1]\n",
    "    \n",
    "class BusGraph(GraphPlan):\n",
    "    \"\"\"\n",
    "    Turns bus routes into nodes for the graph search\n",
    "    \"\"\"\n",
    "    def __init__(self, lon1,  lat1, lon2, lat2):\n",
    "        GraphPlan.__init__(self, lon1,  lat1, lon2, lat2 )\n",
    "        \n",
    "        #Extract all raw bus routes\n",
    "        self.route_data = [row for row in self.map_data if row['type'] == 'route']\n",
    "        #self.route_data = [row for row in self.way_data if 'route' in row['data']['tag'].keys()]\n",
    "        #self.bus_data = [row for row in self.route_data if 'bus' in row['data']['tag']['route']]"
   ]
  },
  {
   "cell_type": "code",
   "execution_count": null,
   "metadata": {
    "collapsed": false
   },
   "outputs": [],
   "source": [
    "#Load data\n",
    "#graph = GraphPlan(22.216864,60.416923,22.286005,60.451442)\n",
    "\n",
    "graph = BusGraph(0.738144,51.805537,0.754623,51.822623)"
   ]
  },
  {
   "cell_type": "code",
   "execution_count": null,
   "metadata": {
    "collapsed": false
   },
   "outputs": [],
   "source": [
    "graph.map_data"
   ]
  },
  {
   "cell_type": "code",
   "execution_count": null,
   "metadata": {
    "collapsed": true
   },
   "outputs": [],
   "source": [
    "#Define Problem\n",
    "start =  249745223\n",
    "goal = 4756728248"
   ]
  },
  {
   "cell_type": "code",
   "execution_count": null,
   "metadata": {
    "collapsed": false
   },
   "outputs": [],
   "source": [
    "#Define Problem\n",
    "start =  249745223\n",
    "goal = 4756728248\n",
    "search_results = breadth_first_search(graph, start, goal)\n",
    "path_1 = path_construction(start, goal, search_results)\n",
    "#search_results = uniform_cost_search(graph, start, goal)\n",
    "#path_2 = path_construction(start, goal, search_results)\n",
    "#search_results = a_star_search(graph, start, goal)\n",
    "#path_2 = path_construction(start, goal, search_results)"
   ]
  },
  {
   "cell_type": "code",
   "execution_count": null,
   "metadata": {
    "collapsed": false
   },
   "outputs": [],
   "source": []
  },
  {
   "cell_type": "code",
   "execution_count": null,
   "metadata": {
    "collapsed": true
   },
   "outputs": [],
   "source": []
  },
  {
   "cell_type": "code",
   "execution_count": null,
   "metadata": {
    "collapsed": true
   },
   "outputs": [],
   "source": []
  },
  {
   "cell_type": "code",
   "execution_count": null,
   "metadata": {
    "collapsed": false
   },
   "outputs": [],
   "source": [
    "graph.neighbour_list(1101337726)"
   ]
  },
  {
   "cell_type": "code",
   "execution_count": null,
   "metadata": {
    "collapsed": false
   },
   "outputs": [],
   "source": [
    "graph.neighbour_list(21646150)"
   ]
  },
  {
   "cell_type": "code",
   "execution_count": null,
   "metadata": {
    "collapsed": false
   },
   "outputs": [],
   "source": [
    "graph.roads[42684571]"
   ]
  },
  {
   "cell_type": "code",
   "execution_count": null,
   "metadata": {
    "collapsed": false
   },
   "outputs": [],
   "source": [
    "graph.node2road(21646230)"
   ]
  },
  {
   "cell_type": "code",
   "execution_count": null,
   "metadata": {
    "collapsed": false
   },
   "outputs": [],
   "source": [
    "graph.roads[22649715]"
   ]
  },
  {
   "cell_type": "code",
   "execution_count": null,
   "metadata": {
    "collapsed": false
   },
   "outputs": [],
   "source": [
    "path_1"
   ]
  },
  {
   "cell_type": "code",
   "execution_count": null,
   "metadata": {
    "collapsed": false
   },
   "outputs": [],
   "source": [
    "graph.node_path_geojson([21855869,\n",
    " 554190049,\n",
    " 1252511515,\n",
    " 30070345,\n",
    " 1252511439,\n",
    " 1274616355,\n",
    " 1252511546,\n",
    " 1252511468,\n",
    " 21402480,\n",
    " 256371984,\n",
    " 597376717,\n",
    " 1334702233,\n",
    " 21402481,\n",
    " 984624826,\n",
    " 1334702231,\n",
    " 283313787,\n",
    " 558546949,\n",
    " 215546743,\n",
    " 215546699,\n",
    " 1334702241,\n",
    " 471079552,\n",
    " 21855854,\n",
    " 530866234,\n",
    " 756885115,\n",
    " 1252511533,\n",
    " 21855855,\n",
    " 1101337653,\n",
    " 21646201,\n",
    " 3223179595,\n",
    " 2601642846,\n",
    " 3223179632,\n",
    " 3223179631,\n",
    " 597376713,\n",
    " 1101337825,\n",
    " 1099808365,\n",
    " 1099808361,\n",
    " 1101337543,\n",
    " 1101337632,\n",
    " 1252511543,\n",
    " 21646150])"
   ]
  },
  {
   "cell_type": "code",
   "execution_count": null,
   "metadata": {
    "collapsed": false
   },
   "outputs": [],
   "source": [
    "graph.roads"
   ]
  },
  {
   "cell_type": "code",
   "execution_count": null,
   "metadata": {
    "collapsed": false
   },
   "outputs": [],
   "source": [
    "graph.node_path_geojson([21646150, 1101337726, 243674925, 533774011, 32919954, 30390838, 21646152])"
   ]
  },
  {
   "cell_type": "code",
   "execution_count": null,
   "metadata": {
    "collapsed": false
   },
   "outputs": [],
   "source": [
    "neighbour_nodes = set() #Only collect unique neighbours\n",
    "way_list = test.node2way(338507468)\n",
    "for way_id in way_list:\n",
    "    way = test.ways[way_id]\n",
    "    way_index = way.index(338507468)\n",
    "    forward_node = way_index + 1\n",
    "    backward_node = way_index - 1\n",
    "    try:\n",
    "        forward = way[forward_node]\n",
    "        neighbour_nodes.add(forward)\n",
    "    except:\n",
    "        pass\n",
    "    try:\n",
    "        if backward_node > 0:\n",
    "            backward = way[backward_node]\n",
    "            neighbour_nodes.add(backward)\n",
    "    except:\n",
    "        pass"
   ]
  },
  {
   "cell_type": "code",
   "execution_count": null,
   "metadata": {
    "collapsed": false
   },
   "outputs": [],
   "source": [
    "neighbour_nodes"
   ]
  },
  {
   "cell_type": "code",
   "execution_count": null,
   "metadata": {
    "collapsed": false
   },
   "outputs": [],
   "source": [
    "temp = [1,2,3]\n",
    "temp[3]"
   ]
  },
  {
   "cell_type": "code",
   "execution_count": null,
   "metadata": {
    "collapsed": false
   },
   "outputs": [],
   "source": [
    "test.ways"
   ]
  },
  {
   "cell_type": "code",
   "execution_count": null,
   "metadata": {
    "collapsed": false
   },
   "outputs": [],
   "source": [
    "m"
   ]
  },
  {
   "cell_type": "code",
   "execution_count": null,
   "metadata": {
    "collapsed": false
   },
   "outputs": [],
   "source": [
    "deque([2,4]).sort()"
   ]
  },
  {
   "cell_type": "code",
   "execution_count": null,
   "metadata": {
    "collapsed": false
   },
   "outputs": [],
   "source": [
    "graph = Aplanner(0.738144,51.809888,0.750504,51.822623)\n",
    "\n",
    "#Define Problem\n",
    "start = 308546906\n",
    "goal = 316303594\n",
    "\n",
    "search_path = []\n",
    "explored_nodes = set()\n",
    "\n",
    "\n",
    "def a_star_search(graph, start, goal):\n",
    "    frontier = PriorityQueue()\n",
    "    frontier.put(start, 0)\n",
    "    came_from = {}\n",
    "    cost_so_far = {}\n",
    "    \n",
    "    came_from[start] = None\n",
    "    cost_so_far[start] = 0\n",
    "    \n",
    "    while not frontier.empty():\n",
    "            \n",
    "        current = frontier.get()\n",
    "        \n",
    "        #Check if the goal has been expanded\n",
    "        if goal == came_from[current]:\n",
    "            print(\"Solution Found\")\n",
    "            break\n",
    "        \n",
    "        children = graph.neigbour_nodes(current)\n",
    "        \n",
    "        for child in children:\n",
    "            \n",
    "            child_cost = cost_so_far[current] + graph.node_distance(current, child) - graph.node_distance(child, goal)\n",
    "            \n",
    "            if child not in came_from or child_cost < cost_so_far[child]:\n",
    "                \n",
    "                priority = child_cost\n",
    "                frontier.put(child, priority)\n",
    "                came_from[child] = current\n",
    "                cost_so_far[child] = child_cost\n",
    "\n",
    "                \n",
    "    return came_from\n",
    "\n",
    "search_results = a_star_search(graph, start, goal)\n",
    "path = path_construction(start, goal, search_results)"
   ]
  },
  {
   "cell_type": "code",
   "execution_count": null,
   "metadata": {
    "collapsed": false
   },
   "outputs": [],
   "source": [
    "for node in test.turns:\n",
    "    print(test.neigbour_nodes(node))"
   ]
  },
  {
   "cell_type": "code",
   "execution_count": null,
   "metadata": {
    "collapsed": false
   },
   "outputs": [],
   "source": [
    "test.ways[25643156]"
   ]
  },
  {
   "cell_type": "code",
   "execution_count": null,
   "metadata": {
    "collapsed": false
   },
   "outputs": [],
   "source": [
    "node_ways = {}\n",
    "node_list = []\n",
    "\n",
    "for way in list(test.ways.keys()):\n",
    "    for node in test.ways[way]:\n",
    "        if node not in list(node_ways.keys()):\n",
    "            node_ways[node] = [way]\n",
    "            node_list.append(node)\n",
    "        else:\n",
    "            print(\"Node already in dict\")\n",
    "            list_ = node_ways[node]\n",
    "            list_.append(way)\n",
    "            node_ways[node] = list_\n",
    "#node_ways"
   ]
  },
  {
   "cell_type": "code",
   "execution_count": null,
   "metadata": {
    "collapsed": false
   },
   "outputs": [],
   "source": [
    "test.ways[32702976]"
   ]
  },
  {
   "cell_type": "code",
   "execution_count": null,
   "metadata": {
    "collapsed": false
   },
   "outputs": [],
   "source": [
    "print(len(set(node_list)))\n",
    "print(len(node_list))"
   ]
  },
  {
   "cell_type": "code",
   "execution_count": null,
   "metadata": {
    "collapsed": false
   },
   "outputs": [],
   "source": [
    "test.turns"
   ]
  },
  {
   "cell_type": "code",
   "execution_count": null,
   "metadata": {
    "collapsed": false
   },
   "outputs": [],
   "source": [
    "test.turns"
   ]
  },
  {
   "cell_type": "code",
   "execution_count": null,
   "metadata": {
    "collapsed": true
   },
   "outputs": [],
   "source": [
    "if 1583202304 in test.ways.keys():\n",
    "    print('yes')"
   ]
  },
  {
   "cell_type": "code",
   "execution_count": null,
   "metadata": {
    "collapsed": false
   },
   "outputs": [],
   "source": [
    "for key in node_ways.keys():\n",
    "    if len(node_ways[key]) > 1:\n",
    "        print (len(node_ways[key]))"
   ]
  },
  {
   "cell_type": "code",
   "execution_count": null,
   "metadata": {
    "collapsed": false
   },
   "outputs": [],
   "source": [
    "test.node_ways[1583202304]"
   ]
  },
  {
   "cell_type": "code",
   "execution_count": null,
   "metadata": {
    "collapsed": false
   },
   "outputs": [],
   "source": [
    "def node2loc(node_id):\n",
    "    for node in node_data:\n",
    "        if node_id == node['data']['id']:\n",
    "            return (node['data']['lon'], node['data']['lat'])"
   ]
  },
  {
   "cell_type": "code",
   "execution_count": null,
   "metadata": {
    "collapsed": false
   },
   "outputs": [],
   "source": [
    "node_data[0]"
   ]
  },
  {
   "cell_type": "code",
   "execution_count": null,
   "metadata": {
    "collapsed": false
   },
   "outputs": [],
   "source": [
    "for dict_ in map_nodes:\n",
    "    if dict_['type'] == 'way':\n",
    "        way = dict_\n",
    "        if 'highway' in way['data']['tag'].keys():\n",
    "            print(way, '\\n')"
   ]
  },
  {
   "cell_type": "code",
   "execution_count": null,
   "metadata": {
    "collapsed": false
   },
   "outputs": [],
   "source": [
    "set_ = set()\n",
    "for dict_ in map_nodes:\n",
    "    set_.add(tuple(dict_['type']))\n",
    "    "
   ]
  }
 ],
 "metadata": {
  "kernelspec": {
   "display_name": "Python 3",
   "language": "python",
   "name": "python3"
  },
  "language_info": {
   "codemirror_mode": {
    "name": "ipython",
    "version": 3
   },
   "file_extension": ".py",
   "mimetype": "text/x-python",
   "name": "python",
   "nbconvert_exporter": "python",
   "pygments_lexer": "ipython3",
   "version": "3.5.2"
  }
 },
 "nbformat": 4,
 "nbformat_minor": 2
}
