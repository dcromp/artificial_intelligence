{
 "cells": [
  {
   "cell_type": "markdown",
   "metadata": {},
   "source": [
    "## Planning Graph"
   ]
  },
  {
   "cell_type": "code",
   "execution_count": 1,
   "metadata": {
    "collapsed": false
   },
   "outputs": [
    {
     "name": "stdout",
     "output_type": "stream",
     "text": [
      "Connecting to database\n",
      "->host='localhost' dbname='osm' user='dcromp'\n",
      "Connected!\n",
      "\n"
     ]
    }
   ],
   "source": [
    "import psycopg2\n",
    "from geojson import LineString, GeometryCollection, Point\n",
    "from math import radians, sin, cos, sqrt, asin\n",
    "import heapq\n",
    "import numpy as np\n",
    "from osmread import parse_file, Way, Node\n",
    "import os.path\n",
    "import pickle\n",
    "\n",
    "class GraphPlan(object):\n",
    "    \"\"\" Process data for a country to produce data structures needed for\n",
    "        a graph search\n",
    "    \"\"\"\n",
    "    # TODO: Class excepts any bz2 file for processing \n",
    "    def __init__(self):\n",
    "        \"\"\"\n",
    "        Connect to OSM data base and prepare basic data structures\n",
    "        \"\"\"\n",
    "        #TODO: Allow user to specify database, user and national region\n",
    "        conn_string = \"host='localhost' dbname='osm' user='dcromp'\"\n",
    "        print (\"Connecting to database\\n->%s\" % (conn_string))\n",
    "        # get a connection, if a connect cannot be made an exception will be raised here\n",
    "        conn = psycopg2.connect(conn_string)\n",
    "        # conn.cursor will return a cursor object\n",
    "        self.cursor = conn.cursor()\n",
    "        print (\"Connected!\\n\")\n",
    "        \n",
    "        # Load a file of previously calculated node distances if it exists\n",
    "        if os.path.isfile(\"saved_distances.p\"):\n",
    "            self.saved_distances = pickle.load(open(\"saved_distances.p\",\"rb\"))\n",
    "        else:\n",
    "            self.saved_distances = {}\n",
    "            \n",
    "        \n",
    "        # User guide on using osmosis tags\n",
    "        # http://skipperkongen.dk/2012/08/02/examples-of-querying-a-osm-postgresql-table-with-the-hstore-tags-column/\n",
    "        \n",
    "    def node_neighbours(self, node_id):\n",
    "        \"\"\"\n",
    "        For a given node_id its neighbouring nodes ids are returned \n",
    "        Args:\n",
    "            Node_id string\n",
    "        Returns:\n",
    "            [node_id] List of neighbouring node id's  \n",
    "        \"\"\"\n",
    "        #TODO: David Crompton, Combine the select statements into a signle database query \n",
    "        #Query to get way which the node occurs in\n",
    "        query_string = \"SELECT * FROM way_nodes WHERE node_id = {}\".format(node_id)\n",
    "        self.cursor.execute(query_string)\n",
    "        records = self.cursor.fetchall()\n",
    "        #Extract way id's from the records\n",
    "        ways = [record[0] for record in records]\n",
    "        neighbours_list = set()\n",
    "        for way in ways:\n",
    "            #Make sure we return a road using highway key and not a polygon of a building\n",
    "            query_string = \"SELECT nodes FROM ways WHERE id = {} AND exist(tags, 'highway')\".format(way)\n",
    "            self.cursor.execute(query_string)\n",
    "            records = self.cursor.fetchall()\n",
    "            try: #Possiable that way is not a road so nodes is empty\n",
    "                nodes = records[0][0]\n",
    "            except:\n",
    "                continue #Skip way if way is not a road\n",
    "            node_index = nodes.index(int(node_id))\n",
    "            #Extract the nodes neighbour and save to dict\n",
    "            forward_node = node_index + 1\n",
    "            backward_node = node_index - 1\n",
    "            try:\n",
    "                forward = nodes[forward_node]\n",
    "                neighbours_list.add(str(forward))\n",
    "            except:\n",
    "                pass\n",
    "            if backward_node >= 0:\n",
    "                try:\n",
    "                    backward = nodes[backward_node]\n",
    "                    neighbours_list.add(str(backward))\n",
    "                except:\n",
    "                    pass \n",
    "        return list(neighbours_list)\n",
    "    \n",
    "    def distance_measure(self, node_1, node_2):\n",
    "        \"\"\"\n",
    "        Calculates the distance between two nodes\n",
    "        Args:\n",
    "            node_1: Node id of the first node\n",
    "            node_2: Node id of the second node\n",
    "        Returns:\n",
    "            float: distance in meters\n",
    "        \"\"\"\n",
    "        if node_1 == node_2: # Nodes are the same\n",
    "            return 0\n",
    "        \n",
    "        # Quick check to see if we have seen these nodes before\n",
    "        try:\n",
    "            distance = self.saved_distances[(node_1, node_2)]\n",
    "            return distance\n",
    "        except:\n",
    "            pass\n",
    "    \n",
    "        query_string = \"\"\"\n",
    "        SELECT ST_AsText(ST_Transform(geom,4326))\n",
    "        FROM nodes\n",
    "        WHERE id IN ({}, {})\n",
    "        \"\"\".format(node_1, node_2)\n",
    "        self.cursor.execute(query_string)\n",
    "        results = self.cursor.fetchall()\n",
    "        geom_1 = results[0][0]\n",
    "        geom_2 = results[1][0]\n",
    "        query_string = \"\"\"\n",
    "        SELECT ST_Distance_Sphere(ST_GeomFromText('{}',4326), ST_GeomFromText('{}',4326))\n",
    "        \"\"\".format(geom_1, geom_2)\n",
    "        self.cursor.execute(query_string)\n",
    "        results = self.cursor.fetchall()\n",
    "        return results[0][0]\n",
    "    \n",
    "    def nearest_roads(self, lon, lat, rows=10):\n",
    "        \"\"\"\n",
    "        User can insert any lon lat and return any number of node_id's within the area.\n",
    "        Args:\n",
    "            lon - longitude of location\n",
    "            lat - latitide of location\n",
    "            rows: Number of random locations within 1Km to be returned\n",
    "        Returns:\n",
    "            [node_id,...] -  The nearest node_id's\n",
    "        \"\"\"\n",
    "        # 0.01 units is rought 1.11 Km\n",
    "        query_string = \"\"\"\n",
    "        SELECT nodes.id\n",
    "        FROM nodes, way_nodes, ways\n",
    "        WHERE ST_DWithin(nodes.geom, ST_GeomFromText('POINT({} {})',4326), 0.01) \n",
    "        AND nodes.id = way_nodes.node_id \n",
    "        AND way_nodes.way_id = ways.id \n",
    "        AND exist(ways.tags, 'highway')\n",
    "        ORDER BY random()\n",
    "        LIMIT {}; \n",
    "        \"\"\".format(lon, lat, rows)\n",
    "        self.cursor.execute(query_string)\n",
    "        records = self.cursor.fetchall()\n",
    "        print(records)\n",
    "        \n",
    "    def nearest_road(self, lon, lat):\n",
    "        \"\"\"\n",
    "        User can insert any lon lat and the nearest node_id that is on a road is returned\n",
    "        Args:\n",
    "            lon - longitude of location\n",
    "            lat - latitide of location\n",
    "        Returns:\n",
    "            node_id -  The nearest node to lon/lat input\n",
    "        \"\"\"\n",
    "        #TODO David Crompton: Fix returns empty if no node within 0.01 degress (1.11Km)\n",
    "        query_string = \"\"\"\n",
    "        SELECT nodes.id\n",
    "        FROM nodes, way_nodes, ways\n",
    "        WHERE ST_DWithin(nodes.geom, ST_GeomFromText('POINT({} {})',4326), 0.01) \n",
    "        AND nodes.id = way_nodes.node_id \n",
    "        AND way_nodes.way_id = ways.id \n",
    "        AND exist(ways.tags, 'highway')\n",
    "        ORDER BY ST_Distance(nodes.geom, ST_GeomFromText('POINT({} {})',4326)) ASC\n",
    "        LIMIT 1;\n",
    "        \"\"\".format(lon, lat, lon, lat)\n",
    "        \n",
    "        print(\"Warning very slow....\")\n",
    "        self.cursor.execute(query_string)\n",
    "        records = self.cursor.fetchall()\n",
    "        print(\"Found nearest node id :)\")\n",
    "        return records\n",
    "    \n",
    "    def node_path_geojson(self, node_list):\n",
    "        \"\"\"\n",
    "        Takes a list of node id's and converts them into a goejson linestring that can be displayed on maps\n",
    "        Args:\n",
    "            [node_id,...] : list of node id's\n",
    "        Returns:\n",
    "            LineString([lat, lng,...]) : A linestring of geographic coordinates in geojson format\n",
    "        \"\"\"\n",
    "        roads = []\n",
    "        for node_id in node_list:\n",
    "            node_id = node_id.split('_BUS_')[0]\n",
    "            query_string = \"SELECT ST_AsText(ST_Transform(geom,4326)) FROM nodes WHERE id = {}\".format(node_id)\n",
    "            self.cursor.execute(query_string)\n",
    "            records = self.cursor.fetchall()\n",
    "            lng, lat = records[0][0].replace('POINT(', ' ').replace(')', '').split(' ')[1:3]\n",
    "            roads.append((float(lng), float(lat)))\n",
    "        return LineString(roads)\n",
    "    \n",
    "    def save_distances(self):\n",
    "        pickle.dump(self.saved_distances, open(\"saved_distances.p\", \"wb\" ))\n",
    "    \n",
    "class PriorityQueue:\n",
    "    def __init__(self):\n",
    "        self.elements = []\n",
    "    \n",
    "    def empty(self):\n",
    "        return len(self.elements) == 0\n",
    "    \n",
    "    def put(self, item, priority):\n",
    "        heapq.heappush(self.elements, (priority, item))\n",
    "    \n",
    "    def get(self):\n",
    "        return heapq.heappop(self.elements)[1]\n",
    "        \n",
    "graph = GraphPlan()"
   ]
  },
  {
   "cell_type": "code",
   "execution_count": 2,
   "metadata": {
    "collapsed": false
   },
   "outputs": [
    {
     "name": "stdout",
     "output_type": "stream",
     "text": [
      "Warning very slow....\n",
      "Found nearest node id :)\n"
     ]
    },
    {
     "data": {
      "text/plain": [
       "[(1241388716,)]"
      ]
     },
     "execution_count": 2,
     "metadata": {},
     "output_type": "execute_result"
    }
   ],
   "source": [
    "graph.nearest_road(10.7522, 59.9139)"
   ]
  },
  {
   "cell_type": "code",
   "execution_count": null,
   "metadata": {
    "collapsed": true
   },
   "outputs": [],
   "source": [
    "SELECT nodes.id\n",
    "FROM nodes, way_nodes, ways\n",
    "WHERE ST_DWithin(nodes.geom, ST_GeomFromText('POINT(10.7522 59.9139)',4326), 0.01) \n",
    "AND nodes.id = way_nodes.node_id \n",
    "AND way_nodes.way_id = ways.id \n",
    "AND exist(ways.tags, 'highway')\n",
    "ORDER BY random()\n",
    "LIMIT 10;"
   ]
  },
  {
   "cell_type": "markdown",
   "metadata": {},
   "source": [
    "## Bus Graph"
   ]
  },
  {
   "cell_type": "code",
   "execution_count": null,
   "metadata": {
    "collapsed": false
   },
   "outputs": [],
   "source": [
    "class BusPlan(GraphPlan):\n",
    "    \"\"\" \n",
    "    Extract a BusPlan from the core GraphPlan\n",
    "    \"\"\"\n",
    "    def __init__(self):\n",
    "        GraphPlan.__init__(self)\n",
    "        \n",
    "    def bus_nodes(self, node_id):\n",
    "        \"\"\"\n",
    "        Takes a node_id and returns the bus routes if any the node_id belongs to.\n",
    "        Args:\n",
    "            Node_id\n",
    "        Returns:\n",
    "            [bus_route_id,..]: List of new node_id's with the bus route appended\n",
    "            None if node is not part of a bus route\n",
    "        \"\"\"\n",
    "        bus_routes = []\n",
    "        # Select all the bus routes the node appears in\n",
    "        query_string = \"\"\"\n",
    "        SELECT DISTINCT relations.tags->'name', relations.tags->'operator', relations.tags->'ref'\n",
    "        FROM way_nodes, relation_members, relations \n",
    "        WHERE {} = way_nodes.node_id\n",
    "        AND way_nodes.way_id = relation_members.member_id\n",
    "        AND relation_members.relation_id = relations.id\n",
    "        AND tags @> '\"route\"=>\"bus\"'::hstore\"\"\".format(node_id)\n",
    "        self.cursor.execute(query_string)\n",
    "        results = self.cursor.fetchall()\n",
    "        if len(results) > 0: #Node is part of a bus route \n",
    "            for bus_route in results:\n",
    "                bus_routes.append(str(node_id) + '_BUS_{}_{}'.format(bus_route[1], bus_route[2]))\n",
    "        return bus_routes\n",
    "    \n",
    "    def bus_stop(self, node_id):\n",
    "        query_string = \"\"\"\n",
    "        SELECT * \n",
    "        FROM nodes \n",
    "        WHERE id = {} \n",
    "        AND tags @> '\"public_transport\"=>\"stop_position\"'::hstore;\"\"\".format(node_id)\n",
    "        self.cursor.execute(query_string)\n",
    "        results = self.cursor.fetchall()\n",
    "        if len(results) > 0: # Node is a bus stop\n",
    "            return True\n",
    "        else:\n",
    "            return False # Node is not a bus stop\n",
    "    \n",
    "    \n",
    "    def bus_neighbours(self, node_id):\n",
    "        \"\"\"\n",
    "        Extends the node_neighbours function to also return the children of a bus search graph. In short it seperates\n",
    "        out bus routes from the rest of the graph\n",
    "        Args:\n",
    "            node_id: A float representing the node\n",
    "        Returns:\n",
    "            [node_id]: A list of neighbouring node_id's and bus routes in the format node_id_BUS_operator_ref\n",
    "        \"\"\"\n",
    "        neighbours = []\n",
    "        bus = False\n",
    "        #Is node_id a normal node or a bus node\n",
    "        try: #Node is a bus\n",
    "            bus_id = node_id.split('_BUS_')[1]\n",
    "            bus = True\n",
    "        except: # Regular node\n",
    "            pass\n",
    "        if bus == True:\n",
    "            raw_node_id = node_id.split('_BUS_')[0]\n",
    "            stop_test = self.bus_stop(raw_node_id) # Test if node is a bus stop\n",
    "            if stop_test == True:\n",
    "                neighbours.append(raw_node_id)\n",
    "            children = self.node_neighbours(int(raw_node_id))\n",
    "            for child in children:\n",
    "                bus_neighbours = self.bus_nodes(child)\n",
    "                # Only bus nodes on the same route are valid neighbours\n",
    "                bus_neighbours = [node for node in bus_neighbours if node.split('_BUS_')[1] == bus_id]\n",
    "                neighbours.extend(bus_neighbours)\n",
    "            return neighbours \n",
    "        else:\n",
    "            raw_node_id = node_id.split('_BUS_')[0]\n",
    "            children = self.node_neighbours(int(raw_node_id))\n",
    "            neighbours.extend(children)\n",
    "            \n",
    "            stop_test = self.bus_stop(raw_node_id) # Test if node is a bus stop\n",
    "            if stop_test == False:\n",
    "                return neighbours\n",
    "            else:\n",
    "                neighbours.extend(self.bus_nodes(raw_node_id))\n",
    "                return neighbours\n",
    "    \n",
    "    def bus_distance(self, node_1, node_2):\n",
    "        \"\"\"\n",
    "        Allows the use of the distance_measure function with bus route node_id's\n",
    "        Args:\n",
    "            node_1: A node_id or a node_id with an appended bus route\n",
    "            node_2: A node_id or a node_id with an appended bus route\n",
    "        Returns:\n",
    "            meters: distance between the two nodes\n",
    "        \"\"\"\n",
    "        raw_node_1 = node_1.split('_BUS_')[0]\n",
    "        raw_node_2 = node_2.split('_BUS_')[0]\n",
    "        try:\n",
    "            distance = self.saved_distances[(raw_node_1, raw_node_2)]\n",
    "        except:\n",
    "            distance = self.distance_measure(raw_node_1, raw_node_2)\n",
    "            self.saved_distances[(raw_node_1, raw_node_2)] = distance\n",
    "        return distance\n",
    "        \n",
    "        \n",
    "graph = BusPlan()"
   ]
  },
  {
   "cell_type": "markdown",
   "metadata": {},
   "source": [
    "### Special search algorithm for testing bus route planner"
   ]
  },
  {
   "cell_type": "code",
   "execution_count": null,
   "metadata": {
    "collapsed": false
   },
   "outputs": [],
   "source": [
    "from collections import deque\n",
    "import time\n",
    "\n",
    "graph = BusPlan() # Make the bus version of the planning graph\n",
    "\n",
    "\n",
    "def step_cost(parent, child):\n",
    "    \"\"\"\n",
    "    Step cost expressed as time\n",
    "    \"\"\"\n",
    "    total_cost = 0\n",
    "    bus_speed = 30\n",
    "    walking_speed = 5\n",
    "    waiting_time = 15 #Approximate time waiting for a bus\n",
    "    parent_bus = False\n",
    "    child_bus = False\n",
    "    \n",
    "    distance = graph.bus_distance(parent, child)\n",
    "    \n",
    "    #Determine if parent and child are bus nodes\n",
    "    try:\n",
    "        parent_bus = parent.split('_BUS_')[1]\n",
    "        parent_bus = True\n",
    "    except:\n",
    "        pass\n",
    "    try:\n",
    "        child_bus = child.split('_BUS_')[1]\n",
    "        child_bus = True\n",
    "    except:\n",
    "        pass\n",
    "    \n",
    "    # Bus travel step cost\n",
    "    if parent_bus == True and child_bus == True:\n",
    "        if parent.split('_BUS_')[1] == child.split('_BUS_')[1]:\n",
    "            return (distance / bus_speed)\n",
    "    \n",
    "    #Embarking bus cost\n",
    "    if parent_bus == False and child_bus == True:\n",
    "        return waiting_time\n",
    "    \n",
    "    # Walking cost\n",
    "    return (distance / walking_speed)\n",
    "\n",
    "def heuristic_cost(goal, child):\n",
    "    return graph.bus_distance(goal, child) / 60\n",
    "\n",
    "def bus_cost_search(graph, start, goal):\n",
    "    frontier = PriorityQueue()\n",
    "    frontier.put(start, 0)\n",
    "    came_from = {}\n",
    "    cost_so_far = {}\n",
    "    came_from[start] = None\n",
    "    cost_so_far[start] = 0\n",
    "    print(\"Start Search...\")\n",
    "    while not frontier.empty():\n",
    "        current = frontier.get()\n",
    "        #Check if the goal has been expanded\n",
    "        if goal == current:\n",
    "            print(\"Solution Found\")\n",
    "            break\n",
    "        for child in graph.bus_neighbours(current):\n",
    "            child_cost = cost_so_far[current] + step_cost(current, child)\n",
    "            if child not in came_from or child_cost < cost_so_far[child]:\n",
    "                cost_so_far[child] = child_cost\n",
    "                priority = child_cost + heuristic_cost(goal, child)\n",
    "                frontier.put(child, priority)  \n",
    "                came_from[child] = current\n",
    "        if frontier.empty():\n",
    "            print(\"No Solution\")    \n",
    "    graph.save_distances() # Save any calculations for future use.\n",
    "    return came_from\n",
    "\n",
    "def walking_cost_search(graph, start, goal):\n",
    "    frontier = PriorityQueue()\n",
    "    frontier.put(start, 0)\n",
    "    came_from = {}\n",
    "    cost_so_far = {}\n",
    "    came_from[start] = None\n",
    "    cost_so_far[start] = 0\n",
    "    print(\"Start Search...\")\n",
    "    while not frontier.empty():\n",
    "        current = frontier.get()\n",
    "        #Check if the goal has been expanded\n",
    "        if goal == current:\n",
    "            print(\"Solution Found\")\n",
    "            break\n",
    "        for child in graph.node_neighbours(current):\n",
    "            child_cost = cost_so_far[current] + graph.distance_measure(current, child)\n",
    "            if child not in came_from or child_cost < cost_so_far[child]:\n",
    "                cost_so_far[child] = child_cost\n",
    "                priority = child_cost + graph.distance_measure(current, child)\n",
    "                frontier.put(child, priority)  \n",
    "                came_from[child] = current\n",
    "        if frontier.empty():\n",
    "            print(\"No Solution\")    \n",
    "    graph.save_distances() # Save any calculations for future use.\n",
    "    return came_from\n",
    "            \n",
    "def path_construction(start, node, search_results):\n",
    "    if node == start:\n",
    "        return [node]\n",
    "    else:\n",
    "        list_ = [node]\n",
    "        list_.extend(path_construction(start, search_results[node], search_results))\n",
    "        return list_\n",
    "    \n",
    "def reconstruct_path(came_from, start, goal):\n",
    "    current = goal\n",
    "    path = [current]\n",
    "    while current != start:\n",
    "        current = came_from[current]\n",
    "        path.append(current)\n",
    "    path.append(start) # optional\n",
    "    path.reverse() # optional\n",
    "    return path\n",
    "\n",
    "def bus_node(node):\n",
    "    try:\n",
    "        node.split('_BUS_')[1]\n",
    "        return True\n",
    "    except:\n",
    "        return False\n",
    "\n",
    "def summary_statistics(path):\n",
    "    distance = 0\n",
    "    bus_changes = 0\n",
    "    bus_stops = 0\n",
    "    walking_distnace = 0\n",
    "    parent_node = path[0]\n",
    "    straight_line = graph.bus_distance(parent_node, path[-1])\n",
    "    for node in path[1:]:\n",
    "        distance = distance + graph.bus_distance(parent_node, node) # Disntance of route\n",
    "        if bus_node(parent_node) == False and bus_node(node) == True: # Number of bus changes\n",
    "            bus_changes = + bus_changes + 1\n",
    "        if bus_node(node) == True:\n",
    "            if graph.bus_stop(node.split('_BUS_')[0]) == True:\n",
    "                bus_stops = bus_stops + 1\n",
    "        parent_node = node\n",
    "    return distance, straight_line, bus_changes, bus_stops\n",
    "\n",
    "#Define Problem\n",
    "#start =  '3244944628'\n",
    "#goal = '2368845458'\n",
    "start =  '1374738772'\n",
    "goal = '1056171178'\n",
    "\n",
    "start_time = time.time()\n",
    "result = bus_cost_search(graph, start, goal)\n",
    "#result = walking_cost_search(graph, start, goal)\n",
    "print(\"--- %s seconds ---\" % (time.time() - start_time))\n",
    "path_1 = path_construction(start, goal, result)\n",
    "distance, straight_line, bus_changes, bus_stops = summary_statistics(path_1)"
   ]
  },
  {
   "cell_type": "code",
   "execution_count": null,
   "metadata": {
    "collapsed": false
   },
   "outputs": [],
   "source": [
    "path_1"
   ]
  },
  {
   "cell_type": "code",
   "execution_count": null,
   "metadata": {
    "collapsed": false
   },
   "outputs": [],
   "source": [
    "# Seconds with empty dictionary 808\n",
    "# Seconds with full dictionary 575\n",
    "# Modified with full dictionary 571\n",
    "# Seconds with a* and empty dictionary 13\n",
    "# Seconds with a* and full dictionary 9\n",
    "# Seconds a* with no dictionary 79\n",
    "# Seconds a* with new save function 42"
   ]
  },
  {
   "cell_type": "code",
   "execution_count": null,
   "metadata": {
    "collapsed": false,
    "scrolled": false
   },
   "outputs": [],
   "source": [
    "import folium\n",
    "m = folium.Map(location=[ 59.9139, 10.7522], zoom_start=14)\n",
    "folium.GeoJson(graph.node_path_geojson(path_1),\n",
    "    style_function=lambda x: {\n",
    "        'color' : 'black',\n",
    "        'weight' : 3,\n",
    "        'opacity': 1,\n",
    "        'fillColor' : 'black'\n",
    "        }).add_to(m)\n",
    "m"
   ]
  },
  {
   "cell_type": "markdown",
   "metadata": {},
   "source": [
    "## Search Algorithms"
   ]
  },
  {
   "cell_type": "code",
   "execution_count": null,
   "metadata": {
    "collapsed": false
   },
   "outputs": [],
   "source": [
    "from time import time\n",
    "from collections import deque\n",
    "\n",
    "def breadth_first_search(graph, start, goal):\n",
    "    frontier = deque([])\n",
    "    frontier.append(start)\n",
    "    came_from = {}\n",
    "    came_from[start] = None\n",
    "    \n",
    "    while len(frontier) > 0:\n",
    "        current = frontier.popleft()\n",
    "        if current == goal:\n",
    "            print(\"Solution Found\")\n",
    "            break\n",
    "        children = graph.node_neighbours(current)\n",
    "        for child in children:\n",
    "            if child not in came_from:\n",
    "                frontier.append(child)\n",
    "                came_from[child] = current\n",
    "    return came_from\n",
    "\n",
    "def uniform_cost_search(graph, start, goal):\n",
    "    frontier = PriorityQueue()\n",
    "    frontier.put(start, 0)\n",
    "    came_from = {}\n",
    "    cost_so_far = {}\n",
    "    \n",
    "    came_from[start] = None\n",
    "    cost_so_far[start] = 0\n",
    "    \n",
    "    while not frontier.empty():\n",
    "        current = frontier.get()\n",
    "        #Check if the goal has been expanded\n",
    "        if goal == current:\n",
    "            print(\"Solution Found\")\n",
    "            break\n",
    "        \n",
    "        for child in graph.node_neighbours(current):\n",
    "            child_cost = cost_so_far[current] + graph.distance_measure(current, child)\n",
    "            if child not in came_from or child_cost < cost_so_far[child]:\n",
    "                priority = child_cost\n",
    "                frontier.put(child, priority)\n",
    "                came_from[child] = current\n",
    "                cost_so_far[child] = child_cost\n",
    "        if frontier.empty():\n",
    "            print(\"No Solution\")\n",
    "                \n",
    "    return came_from\n",
    "\n",
    "def a_star_search(graph, start, goal):\n",
    "    frontier = PriorityQueue()\n",
    "    frontier.put(start, 0)\n",
    "    came_from = {}\n",
    "    cost_so_far = {}\n",
    "    \n",
    "    came_from[start] = None\n",
    "    cost_so_far[start] = 0\n",
    "    \n",
    "    while not frontier.empty():\n",
    "        current = frontier.get()\n",
    "        #Check if the goal has been expanded\n",
    "        if goal == current:\n",
    "            print(\"Solution Found\")\n",
    "            break\n",
    "        \n",
    "        for child in graph.node_neighbours(current):\n",
    "            child_cost = cost_so_far[current] + graph.distance_measure(current, child)\n",
    "            if child not in came_from or child_cost < cost_so_far[child]:\n",
    "                priority = child_cost\n",
    "                frontier.put(child, priority)\n",
    "                came_from[child] = current\n",
    "                cost_so_far[child] = child_cost + graph.distance_measure(goal, child)\n",
    "        if frontier.empty():\n",
    "            print(\"No Solution\")\n",
    "                \n",
    "    return came_from\n",
    "\n",
    "def path_construction(start, node, search_results):\n",
    "    if node == start:\n",
    "        return [node]\n",
    "    else:\n",
    "        list_ = [node]\n",
    "        list_.extend(path_construction(start, search_results[node], search_results))\n",
    "        return list_"
   ]
  },
  {
   "cell_type": "code",
   "execution_count": null,
   "metadata": {
    "collapsed": false
   },
   "outputs": [],
   "source": [
    "#Define Problem\n",
    "start =  80005\n",
    "goal = 260365663\n",
    "search_results = breadth_first_search(graph, start, goal)\n",
    "path_1 = path_construction(start, goal, search_results)\n",
    "#search_results = uniform_cost_search(graph, start, goal)\n",
    "#path_2 = path_construction(start, goal, search_results)\n",
    "#search_results = a_star_search(graph, start, goal)\n",
    "#path_2 = path_construction(start, goal, search_results)"
   ]
  },
  {
   "cell_type": "code",
   "execution_count": null,
   "metadata": {
    "collapsed": false
   },
   "outputs": [],
   "source": [
    "import psycopg2\n",
    "from psycopg2.extras import RealDictCursor\n",
    "import json\n",
    "conn_string = \"host='localhost' dbname='osm' user='dcromp'\"\n",
    "# print the connection string we will use to connect\n",
    "print (\"Connecting to database\\n->%s\" % (conn_string))\n",
    " \n",
    "# get a connection, if a connect cannot be made an exception will be raised here\n",
    "conn = psycopg2.connect(conn_string)\n",
    " \n",
    "# conn.cursor will return a cursor object, you can use this cursor to perform queries\n",
    "cursor = conn.cursor()\n",
    "print (\"Connected!\\n\")"
   ]
  },
  {
   "cell_type": "code",
   "execution_count": null,
   "metadata": {
    "collapsed": false
   },
   "outputs": [],
   "source": [
    "# execute our Query\n",
    "cursor.execute(\"select relation_id from relation_members where member_id = 266052566\")"
   ]
  },
  {
   "cell_type": "code",
   "execution_count": null,
   "metadata": {
    "collapsed": true
   },
   "outputs": [],
   "source": [
    "records = cursor.fetchall()"
   ]
  },
  {
   "cell_type": "code",
   "execution_count": null,
   "metadata": {
    "collapsed": false
   },
   "outputs": [],
   "source": [
    "records"
   ]
  },
  {
   "cell_type": "code",
   "execution_count": null,
   "metadata": {
    "collapsed": false
   },
   "outputs": [],
   "source": [
    "records[0][0].replace('POINT(', ' ').replace(')', '').split(' ')[1:3]"
   ]
  },
  {
   "cell_type": "code",
   "execution_count": null,
   "metadata": {
    "collapsed": false
   },
   "outputs": [],
   "source": [
    "getattr(Point, 'POINT(10.8501136 59.9435552)')"
   ]
  },
  {
   "cell_type": "code",
   "execution_count": null,
   "metadata": {
    "collapsed": false
   },
   "outputs": [],
   "source": [
    "test = tagger(records[0][5])\n",
    "print(test)"
   ]
  },
  {
   "cell_type": "code",
   "execution_count": null,
   "metadata": {
    "collapsed": false
   },
   "outputs": [],
   "source": [
    "def tagger(self, string):\n",
    "        \"\"\"\n",
    "        Converts and osmosis tag into a python dictionary\n",
    "\n",
    "        Args:\n",
    "            Osmosis tag, Example: '\"source\"=>\"bing\", \"highway\"=>\"crossing\"'\n",
    "        Returns:\n",
    "            Python dictionary\n",
    "            {'source':'bing', 'highway':'crossing'}\n",
    "        \"\"\"\n",
    "        tag_list = string.replace('\"','' ).replace(' ','' ).split(',')\n",
    "        tuples = (x.split('=>') for x in tag_list) # Each tag value pair is now a list of tuples\n",
    "        return{tuple_[0]:tuple_[1] for tuple_ in tuples}"
   ]
  },
  {
   "cell_type": "code",
   "execution_count": null,
   "metadata": {
    "collapsed": false
   },
   "outputs": [],
   "source": [
    "graph.node_neighbours(80005)"
   ]
  },
  {
   "cell_type": "code",
   "execution_count": null,
   "metadata": {
    "collapsed": false
   },
   "outputs": [],
   "source": [
    "from osmapi import OsmApi\n",
    "from geojson import LineString, GeometryCollection, Point\n",
    "import folium\n",
    "from collections import deque\n",
    "import bz2"
   ]
  },
  {
   "cell_type": "code",
   "execution_count": null,
   "metadata": {
    "collapsed": true
   },
   "outputs": [],
   "source": []
  },
  {
   "cell_type": "code",
   "execution_count": null,
   "metadata": {
    "collapsed": true
   },
   "outputs": [],
   "source": []
  },
  {
   "cell_type": "code",
   "execution_count": null,
   "metadata": {
    "collapsed": false
   },
   "outputs": [],
   "source": [
    "MyApi = OsmApi()"
   ]
  },
  {
   "cell_type": "markdown",
   "metadata": {},
   "source": [
    "def Map(\tself, min_lon, min_lat, max_lon, max_lat)\n",
    "Download data in bounding box. Returns list of dict { type: node|way|relation, data: {} }."
   ]
  },
  {
   "cell_type": "code",
   "execution_count": null,
   "metadata": {
    "collapsed": false
   },
   "outputs": [],
   "source": [
    "highway_tags = ['motorway', 'trunk', 'primary', 'secondary', 'tertiary', 'unclassified', 'residential',\n",
    "                            'service', 'motorway_link', 'trunk_link', 'primary_link', 'secondary_link', 'tertiary_link',\n",
    "                            'living_street', 'pedestrian', 'road']\n",
    "#Raw Data\n",
    "map_data = MyApi.Map(22.216864,60.416923,22.286005,60.451442)\n",
    "way_data = [row for row in map_data if row['type'] == 'way']\n",
    "node_data = [row for row in map_data if row['type'] == 'node']\n",
    "highway_raw = [row for row in way_data if 'highway' in row['data']['tag'].keys()]\n",
    "highway_data = [row for row in highway_raw for tag in highway_tags if tag in row['data']['tag']['highway']]\n",
    "link_data = [row for row in way_data if 'highway' in row['data']['tag'].keys() and 'link' in row['data']['tag']['highway']]"
   ]
  },
  {
   "cell_type": "code",
   "execution_count": null,
   "metadata": {
    "collapsed": true
   },
   "outputs": [],
   "source": [
    "#Helper functions\n",
    "def node2loc(node_id):\n",
    "    for node in node_data:\n",
    "        if node_id == node['data']['id']:\n",
    "            return (node['data']['lon'], node['data']['lat'])"
   ]
  },
  {
   "cell_type": "code",
   "execution_count": null,
   "metadata": {
    "collapsed": false
   },
   "outputs": [],
   "source": [
    "#All Roads to GeoJson\n",
    "roads = []\n",
    "for highway in highway_data:\n",
    "    road = []\n",
    "    nodes = highway['data']['nd'] #List of nodes in highway\n",
    "    for node in nodes:\n",
    "        road.append(node2loc(node))\n",
    "    roads.append(LineString(road))\n",
    "geo_json = GeometryCollection(roads)"
   ]
  },
  {
   "cell_type": "code",
   "execution_count": null,
   "metadata": {
    "collapsed": false
   },
   "outputs": [],
   "source": [
    "m = folium.Map(location=[ 60.4518, 22.2666], zoom_start=15)\n",
    "folium.GeoJson(geo_json,\n",
    "    style_function=lambda x: {\n",
    "        'color' : 'black',\n",
    "        'weight' : 3\n",
    "        ,\n",
    "        'opacity': 1,\n",
    "        'fillColor' : 'black',\n",
    "        }).add_to(m)"
   ]
  },
  {
   "cell_type": "code",
   "execution_count": null,
   "metadata": {
    "collapsed": false,
    "scrolled": false
   },
   "outputs": [],
   "source": [
    "m"
   ]
  },
  {
   "cell_type": "code",
   "execution_count": null,
   "metadata": {
    "collapsed": false
   },
   "outputs": [],
   "source": [
    "#Road turn\n",
    "turns = set()\n",
    "for highway_1 in highway_data:\n",
    "    nodes_1 = highway_1['data']['nd']\n",
    "    for node_1 in nodes_1:\n",
    "        for highway_2 in highway_data: \n",
    "            if highway_2 != highway_1:\n",
    "                nodes_2 = highway_2['data']['nd']\n",
    "                for node_2 in nodes_2:\n",
    "                    if node_2 == node_1:\n",
    "                        turns.add(node2loc(node_1))\n",
    "\n",
    "turn_geojson = GeometryCollection([Point(turn) for turn in list(turns)])"
   ]
  },
  {
   "cell_type": "code",
   "execution_count": null,
   "metadata": {
    "collapsed": false
   },
   "outputs": [],
   "source": [
    "m = folium.Map(location=[60.4518, 22.2666], zoom_start=15)\n",
    "folium.GeoJson(geo_json,\n",
    "    style_function=lambda x: {\n",
    "        'color' : 'black',\n",
    "        'weight' : 3\n",
    "        ,\n",
    "        'opacity': 1,\n",
    "        'fillColor' : 'black',\n",
    "        }).add_to(m)\n",
    "folium.GeoJson(turn_geojson,\n",
    "    style_function=lambda x: {\n",
    "        'color' : 'black',\n",
    "        'weight' : 3\n",
    "        ,\n",
    "        'opacity': 1,\n",
    "        'fillColor' : 'black',\n",
    "        }).add_to(m)"
   ]
  },
  {
   "cell_type": "code",
   "execution_count": null,
   "metadata": {
    "collapsed": false
   },
   "outputs": [],
   "source": [
    "m"
   ]
  },
  {
   "cell_type": "code",
   "execution_count": null,
   "metadata": {
    "collapsed": false
   },
   "outputs": [],
   "source": [
    "from osmapi import OsmApi\n",
    "from geojson import LineString, GeometryCollection, Point\n",
    "from math import radians, sin, cos, sqrt, asin\n",
    "import heapq\n",
    "import numpy as np\n",
    "\n",
    "class GraphPlan(object):\n",
    "    \"\"\" Process data in a bounding box to produce data structures needed for\n",
    "        a graph search\n",
    "    \"\"\"\n",
    "    def __init__(self, lon1,  lat1, lon2, lat2):\n",
    "        self.MyApi = OsmApi()\n",
    "        \n",
    "        #List of allowed road types\n",
    "        self.highway_tags = ['motorway', 'trunk', 'primary', 'secondary', 'tertiary', 'unclassified', 'residential',\n",
    "                            'service', 'motorway_link', 'trunk_link', 'primary_link', 'secondary_link', 'tertiary_link',\n",
    "                            'living_street', 'pedestrian', 'road']\n",
    "        \n",
    "        #Extract basic data units\n",
    "        self.bounding_box = [lon1,  lat1, lon2, lat2]\n",
    "        self.map_data = self.MyApi.Map(lon1,  lat1, lon2, lat2)\n",
    "        self.way_data = [row for row in self.map_data if row['type'] == 'way']\n",
    "        self.node_data = [row for row in self.map_data if row['type'] == 'node']\n",
    "        self.highway_data = [row for row in self.way_data if 'highway' in row['data']['tag'].keys()]\n",
    "        #self.highway_data = [row for row in self.highway_raw for tag in self.highway_tags if tag in row['data']['tag']['highway']]\n",
    "        \n",
    "        #Node_id to lon lat\n",
    "        self.node_ids = [node['data']['id'] for node in self.node_data]\n",
    "        #self.node_id_loc = {node_id:self.node2loc(node_id) for node_id in self.node_ids}\n",
    "        \n",
    "        #Dictionary of road_id and list of node ID's\n",
    "        self.roads = {highway['data']['id']:highway['data']['nd'] for highway in self.highway_data}\n",
    "        \n",
    "        #Dictionary of node_id and list of road_ID's\n",
    "        self.node_roads = self.__node_roads_dict()\n",
    "        \n",
    "        #List of unique nodes at road changes or turns\n",
    "        self.turns = self.__turn_extractor(self.roads)\n",
    "        \n",
    "        #Road_id and their turns\n",
    "        self.road_turns = self.__road_turns(self.roads)\n",
    "        \n",
    "        self.neighbours = self.__neigbour_nodes()\n",
    "        \n",
    "        \n",
    "    #Private Methods\n",
    "    def __road_turns(self, roads):\n",
    "        road_turns = {}\n",
    "        for key in self.roads.keys():\n",
    "            temp_turns = []\n",
    "            for node in roads[key]:\n",
    "                if node in self.turns:\n",
    "                    temp_turns.append(node)\n",
    "            road_turns[key] = temp_turns\n",
    "        return road_turns\n",
    "    \n",
    "    def __turn_extractor(self, roads):\n",
    "        turns = set()\n",
    "        for road_1 in self.roads.keys():\n",
    "            nodes_1 = self.roads[road_1]\n",
    "            for node_1 in nodes_1:\n",
    "                for road_2 in self.roads.keys(): \n",
    "                    if road_2 != road_1:\n",
    "                        nodes_2 = self.roads[road_2]\n",
    "                        for node_2 in nodes_2:\n",
    "                            if node_2 == node_1:\n",
    "                                turns.add(node_1)\n",
    "        return list(turns)\n",
    "    \n",
    "    def __neigbour_nodes(self):\n",
    "        neighbours_dict = {}\n",
    "        for road in self.roads:\n",
    "            for index, node in enumerate(self.roads[road]):\n",
    "                forward_node = index + 1\n",
    "                backward_node = index - 1\n",
    "                try:\n",
    "                    forward = self.roads[road][forward_node]\n",
    "                    if node not in neighbours_dict:\n",
    "                        neighbours_dict[node] = [forward]\n",
    "                    else:\n",
    "                        list_ = neighbours_dict[node]\n",
    "                        list_.append(forward)\n",
    "                        neighbours_dict[node] = list_\n",
    "                except:\n",
    "                    pass\n",
    "                if backward_node >= 0:\n",
    "                    try:\n",
    "                        backward = self.roads[road][backward_node]\n",
    "                        if node not in neighbours_dict:\n",
    "                            neighbours_dict[node] = [backward]\n",
    "                        else:\n",
    "                            list_ = neighbours_dict[node]\n",
    "                            list_.append(backward)\n",
    "                            neighbours_dict[node] = list_\n",
    "                    except:\n",
    "                        pass \n",
    "        return neighbours_dict\n",
    "    \n",
    "    def __node_roads_dict(self):\n",
    "        node_roads = {}\n",
    "        for road in list(self.roads.keys()):\n",
    "            for node in self.roads[road]:\n",
    "                if node not in list(node_roads.keys()):\n",
    "                    node_roads[node] = [road]\n",
    "                else:\n",
    "                    list_ = node_roads[node]\n",
    "                    list_.append(road)\n",
    "                    node_roads[node] = list_\n",
    "        return node_roads\n",
    "    \n",
    "    def __haversine(self, lat1, lon1, lat2, lon2):\n",
    "        R = 6372.8 # Earth radius in kilometers\n",
    "        dLat = radians(lat2 - lat1)\n",
    "        dLon = radians(lon2 - lon1)\n",
    "        lat1 = radians(lat1)\n",
    "        lat2 = radians(lat2)\n",
    "        a = sin(dLat/2)**2 + cos(lat1)*cos(lat2)*sin(dLon/2)**2\n",
    "        c = 2*asin(sqrt(a))\n",
    "        return R * c\n",
    "    \n",
    "    #Helper Methods\n",
    "    def node2loc(self, node_id):\n",
    "        for node in self.node_data:\n",
    "            if node_id == node['data']['id']:\n",
    "                return (node['data']['lon'], node['data']['lat'])\n",
    "    \n",
    "    def node2road(self, node_id):\n",
    "        return self.node_roads[node_id] #List of roads node is in\n",
    "    \n",
    "    def neighbour_list(self, node_id):\n",
    "        return self.neighbours[node_id]\n",
    "    \n",
    "    def node_path_geojson(self, node_list):\n",
    "        roads = []\n",
    "        for node in node_list:\n",
    "            roads.append(self.node2loc(node))\n",
    "        return LineString(roads)\n",
    "    \n",
    "    def distance_measure(self, node1, node2):\n",
    "        lon1, lat1 = self.node2loc(node1)\n",
    "        lon2, lat2 = self.node2loc(node2)\n",
    "        lon = lon1 - lon2\n",
    "        lat = lat1 - lat2\n",
    "        return np.sqrt(np.square(lon) + np.square(lat))\n",
    "    \n",
    "    def node_distance(self, node1, node2):\n",
    "        lon1, lat1 = self.node2loc(node1)\n",
    "        lon2, lat2 = self.node2loc(node2)\n",
    "        distance = self.__haversine(lat1, lon1, lat2, lon2)\n",
    "        return distance\n",
    "    \n",
    "class PriorityQueue:\n",
    "    def __init__(self):\n",
    "        self.elements = []\n",
    "    \n",
    "    def empty(self):\n",
    "        return len(self.elements) == 0\n",
    "    \n",
    "    def put(self, item, priority):\n",
    "        heapq.heappush(self.elements, (priority, item))\n",
    "    \n",
    "    def get(self):\n",
    "        return heapq.heappop(self.elements)[1]\n",
    "    \n",
    "class BusGraph(GraphPlan):\n",
    "    \"\"\"\n",
    "    Turns bus routes into nodes for the graph search\n",
    "    \"\"\"\n",
    "    def __init__(self, lon1,  lat1, lon2, lat2):\n",
    "        GraphPlan.__init__(self, lon1,  lat1, lon2, lat2 )\n",
    "        \n",
    "        #Extract all raw bus routes\n",
    "        self.route_data = [row for row in self.map_data if row['type'] == 'route']\n",
    "        #self.route_data = [row for row in self.way_data if 'route' in row['data']['tag'].keys()]\n",
    "        #self.bus_data = [row for row in self.route_data if 'bus' in row['data']['tag']['route']]"
   ]
  },
  {
   "cell_type": "code",
   "execution_count": null,
   "metadata": {
    "collapsed": false
   },
   "outputs": [],
   "source": [
    "#Load data\n",
    "#graph = GraphPlan(22.216864,60.416923,22.286005,60.451442)\n",
    "\n",
    "graph = BusGraph(0.738144,51.805537,0.754623,51.822623)"
   ]
  },
  {
   "cell_type": "code",
   "execution_count": null,
   "metadata": {
    "collapsed": false
   },
   "outputs": [],
   "source": [
    "graph.map_data"
   ]
  },
  {
   "cell_type": "code",
   "execution_count": null,
   "metadata": {
    "collapsed": true
   },
   "outputs": [],
   "source": [
    "#Define Problem\n",
    "start =  249745223\n",
    "goal = 4756728248"
   ]
  },
  {
   "cell_type": "code",
   "execution_count": null,
   "metadata": {
    "collapsed": false
   },
   "outputs": [],
   "source": [
    "#Define Problem\n",
    "start =  249745223\n",
    "goal = 4756728248\n",
    "search_results = breadth_first_search(graph, start, goal)\n",
    "path_1 = path_construction(start, goal, search_results)\n",
    "#search_results = uniform_cost_search(graph, start, goal)\n",
    "#path_2 = path_construction(start, goal, search_results)\n",
    "#search_results = a_star_search(graph, start, goal)\n",
    "#path_2 = path_construction(start, goal, search_results)"
   ]
  },
  {
   "cell_type": "code",
   "execution_count": null,
   "metadata": {
    "collapsed": false
   },
   "outputs": [],
   "source": []
  },
  {
   "cell_type": "code",
   "execution_count": null,
   "metadata": {
    "collapsed": true
   },
   "outputs": [],
   "source": []
  },
  {
   "cell_type": "code",
   "execution_count": null,
   "metadata": {
    "collapsed": true
   },
   "outputs": [],
   "source": []
  },
  {
   "cell_type": "code",
   "execution_count": null,
   "metadata": {
    "collapsed": false
   },
   "outputs": [],
   "source": [
    "graph.neighbour_list(1101337726)"
   ]
  },
  {
   "cell_type": "code",
   "execution_count": null,
   "metadata": {
    "collapsed": false
   },
   "outputs": [],
   "source": [
    "graph.neighbour_list(21646150)"
   ]
  },
  {
   "cell_type": "code",
   "execution_count": null,
   "metadata": {
    "collapsed": false
   },
   "outputs": [],
   "source": [
    "graph.roads[42684571]"
   ]
  },
  {
   "cell_type": "code",
   "execution_count": null,
   "metadata": {
    "collapsed": false
   },
   "outputs": [],
   "source": [
    "graph.node2road(21646230)"
   ]
  },
  {
   "cell_type": "code",
   "execution_count": null,
   "metadata": {
    "collapsed": false
   },
   "outputs": [],
   "source": [
    "graph.roads[22649715]"
   ]
  },
  {
   "cell_type": "code",
   "execution_count": null,
   "metadata": {
    "collapsed": false
   },
   "outputs": [],
   "source": [
    "path_1"
   ]
  },
  {
   "cell_type": "code",
   "execution_count": null,
   "metadata": {
    "collapsed": false
   },
   "outputs": [],
   "source": [
    "graph.node_path_geojson([21855869,\n",
    " 554190049,\n",
    " 1252511515,\n",
    " 30070345,\n",
    " 1252511439,\n",
    " 1274616355,\n",
    " 1252511546,\n",
    " 1252511468,\n",
    " 21402480,\n",
    " 256371984,\n",
    " 597376717,\n",
    " 1334702233,\n",
    " 21402481,\n",
    " 984624826,\n",
    " 1334702231,\n",
    " 283313787,\n",
    " 558546949,\n",
    " 215546743,\n",
    " 215546699,\n",
    " 1334702241,\n",
    " 471079552,\n",
    " 21855854,\n",
    " 530866234,\n",
    " 756885115,\n",
    " 1252511533,\n",
    " 21855855,\n",
    " 1101337653,\n",
    " 21646201,\n",
    " 3223179595,\n",
    " 2601642846,\n",
    " 3223179632,\n",
    " 3223179631,\n",
    " 597376713,\n",
    " 1101337825,\n",
    " 1099808365,\n",
    " 1099808361,\n",
    " 1101337543,\n",
    " 1101337632,\n",
    " 1252511543,\n",
    " 21646150])"
   ]
  },
  {
   "cell_type": "code",
   "execution_count": null,
   "metadata": {
    "collapsed": false
   },
   "outputs": [],
   "source": [
    "graph.roads"
   ]
  },
  {
   "cell_type": "code",
   "execution_count": null,
   "metadata": {
    "collapsed": false
   },
   "outputs": [],
   "source": [
    "graph.node_path_geojson([21646150, 1101337726, 243674925, 533774011, 32919954, 30390838, 21646152])"
   ]
  },
  {
   "cell_type": "code",
   "execution_count": null,
   "metadata": {
    "collapsed": false
   },
   "outputs": [],
   "source": [
    "neighbour_nodes = set() #Only collect unique neighbours\n",
    "way_list = test.node2way(338507468)\n",
    "for way_id in way_list:\n",
    "    way = test.ways[way_id]\n",
    "    way_index = way.index(338507468)\n",
    "    forward_node = way_index + 1\n",
    "    backward_node = way_index - 1\n",
    "    try:\n",
    "        forward = way[forward_node]\n",
    "        neighbour_nodes.add(forward)\n",
    "    except:\n",
    "        pass\n",
    "    try:\n",
    "        if backward_node > 0:\n",
    "            backward = way[backward_node]\n",
    "            neighbour_nodes.add(backward)\n",
    "    except:\n",
    "        pass"
   ]
  },
  {
   "cell_type": "code",
   "execution_count": null,
   "metadata": {
    "collapsed": false
   },
   "outputs": [],
   "source": [
    "neighbour_nodes"
   ]
  },
  {
   "cell_type": "code",
   "execution_count": null,
   "metadata": {
    "collapsed": false
   },
   "outputs": [],
   "source": [
    "temp = [1,2,3]\n",
    "temp[3]"
   ]
  },
  {
   "cell_type": "code",
   "execution_count": null,
   "metadata": {
    "collapsed": false
   },
   "outputs": [],
   "source": [
    "test.ways"
   ]
  },
  {
   "cell_type": "code",
   "execution_count": null,
   "metadata": {
    "collapsed": false
   },
   "outputs": [],
   "source": [
    "m"
   ]
  },
  {
   "cell_type": "code",
   "execution_count": null,
   "metadata": {
    "collapsed": false
   },
   "outputs": [],
   "source": [
    "deque([2,4]).sort()"
   ]
  },
  {
   "cell_type": "code",
   "execution_count": null,
   "metadata": {
    "collapsed": false
   },
   "outputs": [],
   "source": [
    "graph = Aplanner(0.738144,51.809888,0.750504,51.822623)\n",
    "\n",
    "#Define Problem\n",
    "start = 308546906\n",
    "goal = 316303594\n",
    "\n",
    "search_path = []\n",
    "explored_nodes = set()\n",
    "\n",
    "\n",
    "def a_star_search(graph, start, goal):\n",
    "    frontier = PriorityQueue()\n",
    "    frontier.put(start, 0)\n",
    "    came_from = {}\n",
    "    cost_so_far = {}\n",
    "    \n",
    "    came_from[start] = None\n",
    "    cost_so_far[start] = 0\n",
    "    \n",
    "    while not frontier.empty():\n",
    "            \n",
    "        current = frontier.get()\n",
    "        \n",
    "        #Check if the goal has been expanded\n",
    "        if goal == came_from[current]:\n",
    "            print(\"Solution Found\")\n",
    "            break\n",
    "        \n",
    "        children = graph.neigbour_nodes(current)\n",
    "        \n",
    "        for child in children:\n",
    "            \n",
    "            child_cost = cost_so_far[current] + graph.node_distance(current, child) - graph.node_distance(child, goal)\n",
    "            \n",
    "            if child not in came_from or child_cost < cost_so_far[child]:\n",
    "                \n",
    "                priority = child_cost\n",
    "                frontier.put(child, priority)\n",
    "                came_from[child] = current\n",
    "                cost_so_far[child] = child_cost\n",
    "\n",
    "                \n",
    "    return came_from\n",
    "\n",
    "search_results = a_star_search(graph, start, goal)\n",
    "path = path_construction(start, goal, search_results)"
   ]
  },
  {
   "cell_type": "code",
   "execution_count": null,
   "metadata": {
    "collapsed": false
   },
   "outputs": [],
   "source": [
    "for node in test.turns:\n",
    "    print(test.neigbour_nodes(node))"
   ]
  },
  {
   "cell_type": "code",
   "execution_count": null,
   "metadata": {
    "collapsed": false
   },
   "outputs": [],
   "source": [
    "test.ways[25643156]"
   ]
  },
  {
   "cell_type": "code",
   "execution_count": null,
   "metadata": {
    "collapsed": false
   },
   "outputs": [],
   "source": [
    "node_ways = {}\n",
    "node_list = []\n",
    "\n",
    "for way in list(test.ways.keys()):\n",
    "    for node in test.ways[way]:\n",
    "        if node not in list(node_ways.keys()):\n",
    "            node_ways[node] = [way]\n",
    "            node_list.append(node)\n",
    "        else:\n",
    "            print(\"Node already in dict\")\n",
    "            list_ = node_ways[node]\n",
    "            list_.append(way)\n",
    "            node_ways[node] = list_\n",
    "#node_ways"
   ]
  },
  {
   "cell_type": "code",
   "execution_count": null,
   "metadata": {
    "collapsed": false
   },
   "outputs": [],
   "source": [
    "test.ways[32702976]"
   ]
  },
  {
   "cell_type": "code",
   "execution_count": null,
   "metadata": {
    "collapsed": false
   },
   "outputs": [],
   "source": [
    "print(len(set(node_list)))\n",
    "print(len(node_list))"
   ]
  },
  {
   "cell_type": "code",
   "execution_count": null,
   "metadata": {
    "collapsed": false
   },
   "outputs": [],
   "source": [
    "test.turns"
   ]
  },
  {
   "cell_type": "code",
   "execution_count": null,
   "metadata": {
    "collapsed": false
   },
   "outputs": [],
   "source": [
    "test.turns"
   ]
  },
  {
   "cell_type": "code",
   "execution_count": null,
   "metadata": {
    "collapsed": true
   },
   "outputs": [],
   "source": [
    "if 1583202304 in test.ways.keys():\n",
    "    print('yes')"
   ]
  },
  {
   "cell_type": "code",
   "execution_count": null,
   "metadata": {
    "collapsed": false
   },
   "outputs": [],
   "source": [
    "for key in node_ways.keys():\n",
    "    if len(node_ways[key]) > 1:\n",
    "        print (len(node_ways[key]))"
   ]
  },
  {
   "cell_type": "code",
   "execution_count": null,
   "metadata": {
    "collapsed": false
   },
   "outputs": [],
   "source": [
    "test.node_ways[1583202304]"
   ]
  },
  {
   "cell_type": "code",
   "execution_count": null,
   "metadata": {
    "collapsed": false
   },
   "outputs": [],
   "source": [
    "def node2loc(node_id):\n",
    "    for node in node_data:\n",
    "        if node_id == node['data']['id']:\n",
    "            return (node['data']['lon'], node['data']['lat'])"
   ]
  },
  {
   "cell_type": "code",
   "execution_count": null,
   "metadata": {
    "collapsed": false
   },
   "outputs": [],
   "source": [
    "node_data[0]"
   ]
  },
  {
   "cell_type": "code",
   "execution_count": null,
   "metadata": {
    "collapsed": false
   },
   "outputs": [],
   "source": [
    "for dict_ in map_nodes:\n",
    "    if dict_['type'] == 'way':\n",
    "        way = dict_\n",
    "        if 'highway' in way['data']['tag'].keys():\n",
    "            print(way, '\\n')"
   ]
  },
  {
   "cell_type": "code",
   "execution_count": null,
   "metadata": {
    "collapsed": false
   },
   "outputs": [],
   "source": [
    "set_ = set()\n",
    "for dict_ in map_nodes:\n",
    "    set_.add(tuple(dict_['type']))\n",
    "    "
   ]
  }
 ],
 "metadata": {
  "kernelspec": {
   "display_name": "Python 3",
   "language": "python",
   "name": "python3"
  },
  "language_info": {
   "codemirror_mode": {
    "name": "ipython",
    "version": 3
   },
   "file_extension": ".py",
   "mimetype": "text/x-python",
   "name": "python",
   "nbconvert_exporter": "python",
   "pygments_lexer": "ipython3",
   "version": "3.5.2"
  }
 },
 "nbformat": 4,
 "nbformat_minor": 2
}
